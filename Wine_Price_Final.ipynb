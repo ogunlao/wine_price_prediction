{
 "cells": [
  {
   "cell_type": "markdown",
   "metadata": {},
   "source": [
    "# Bottle of Wine Price Prediction by Group 12"
   ]
  },
  {
   "cell_type": "markdown",
   "metadata": {},
   "source": [
    "Description: Let's try to predict the price of a bottle of wine based on a collection of over one hundred thousand reviews and other product features.\n",
    "\n",
    "Evaluation: Root Mean Squared Error (RMSE).  \n",
    "RMSE = sqrt (mean ((predicted-true) ^ 2))"
   ]
  },
  {
   "cell_type": "code",
   "execution_count": 1,
   "metadata": {},
   "outputs": [],
   "source": [
    "import pandas as pd\n",
    "import numpy as np\n",
    "import matplotlib.pyplot as plt\n",
    "import seaborn as sns\n",
    "\n",
    "# show all columns\n",
    "pd.set_option('display.max_columns', None)\n",
    "\n",
    "%matplotlib inline\n",
    "\n",
    "# Ignore warnings\n",
    "import warnings\n",
    "warnings.filterwarnings(\"ignore\")"
   ]
  },
  {
   "cell_type": "code",
   "execution_count": 2,
   "metadata": {},
   "outputs": [],
   "source": [
    "# Define scoring metric\n",
    "def rmse_score(y_actual, y_predicted):\n",
    "    return np.sqrt(np.mean(np.square(y_actual - y_predicted)))"
   ]
  },
  {
   "cell_type": "code",
   "execution_count": 3,
   "metadata": {},
   "outputs": [],
   "source": [
    "# import train and test data.\n",
    "train_df = pd.read_csv(\"train.csv\")\n",
    "test_df = pd.read_csv(\"test.csv\", index_col='id')\n",
    "target_df = train_df['price']"
   ]
  },
  {
   "cell_type": "code",
   "execution_count": 4,
   "metadata": {},
   "outputs": [
    {
     "name": "stdout",
     "output_type": "stream",
     "text": [
      "Index(['country', 'description', 'designation', 'points', 'price', 'province',\n",
      "       'region_1', 'region_2', 'taster_name', 'taster_twitter_handle', 'title',\n",
      "       'variety', 'winery', 'id'],\n",
      "      dtype='object')\n",
      "Index(['index', 'country', 'description', 'designation', 'points', 'price',\n",
      "       'province', 'region_1', 'region_2', 'taster_name',\n",
      "       'taster_twitter_handle', 'title', 'variety', 'winery'],\n",
      "      dtype='object')\n"
     ]
    }
   ],
   "source": [
    "print(train_df.columns)\n",
    "print(test_df.columns)"
   ]
  },
  {
   "cell_type": "code",
   "execution_count": 5,
   "metadata": {},
   "outputs": [],
   "source": [
    "# drop id columns (not necessary)\n",
    "train_df.drop(columns=[\"id\"], inplace=True)\n",
    "test_df.drop(columns=[\"index\"], inplace=True)"
   ]
  },
  {
   "cell_type": "code",
   "execution_count": 6,
   "metadata": {},
   "outputs": [],
   "source": [
    "# Merge dataframe for data cleaning and preprocessing\n",
    "all_df = pd.concat([train_df, test_df]).reset_index(drop=True)\n"
   ]
  },
  {
   "cell_type": "code",
   "execution_count": 7,
   "metadata": {},
   "outputs": [
    {
     "name": "stdout",
     "output_type": "stream",
     "text": [
      "Train Dataframe shape:  (175000, 13)\n",
      "Test Dataframe shape:  (83210, 13)\n",
      "Combined Dataframe shape:  (258210, 13)\n"
     ]
    }
   ],
   "source": [
    "# Column of train one more than test because of the price column\n",
    "print(\"Train Dataframe shape: \", train_df.shape)\n",
    "print(\"Test Dataframe shape: \", test_df.shape)\n",
    "print(\"Combined Dataframe shape: \", all_df.shape)"
   ]
  },
  {
   "cell_type": "code",
   "execution_count": 8,
   "metadata": {},
   "outputs": [
    {
     "data": {
      "text/html": [
       "<div>\n",
       "<style scoped>\n",
       "    .dataframe tbody tr th:only-of-type {\n",
       "        vertical-align: middle;\n",
       "    }\n",
       "\n",
       "    .dataframe tbody tr th {\n",
       "        vertical-align: top;\n",
       "    }\n",
       "\n",
       "    .dataframe thead th {\n",
       "        text-align: right;\n",
       "    }\n",
       "</style>\n",
       "<table border=\"1\" class=\"dataframe\">\n",
       "  <thead>\n",
       "    <tr style=\"text-align: right;\">\n",
       "      <th></th>\n",
       "      <th>0</th>\n",
       "      <th>1</th>\n",
       "      <th>2</th>\n",
       "      <th>3</th>\n",
       "      <th>4</th>\n",
       "      <th>5</th>\n",
       "      <th>6</th>\n",
       "      <th>7</th>\n",
       "      <th>8</th>\n",
       "      <th>9</th>\n",
       "    </tr>\n",
       "  </thead>\n",
       "  <tbody>\n",
       "    <tr>\n",
       "      <th>country</th>\n",
       "      <td>Portugal</td>\n",
       "      <td>France</td>\n",
       "      <td>France</td>\n",
       "      <td>US</td>\n",
       "      <td>US</td>\n",
       "      <td>Spain</td>\n",
       "      <td>France</td>\n",
       "      <td>Italy</td>\n",
       "      <td>US</td>\n",
       "      <td>Italy</td>\n",
       "    </tr>\n",
       "    <tr>\n",
       "      <th>description</th>\n",
       "      <td>This is a fine rich balanced wine. It has ripe...</td>\n",
       "      <td>A solid, chunky wine, with a structure that is...</td>\n",
       "      <td>This is powerful and concentrated, with the hi...</td>\n",
       "      <td>Rich, ripe and oaky, this Petite Sirah charms ...</td>\n",
       "      <td>This wine is a unique in the state blend and f...</td>\n",
       "      <td>This brut nature is citric and bubbly on the p...</td>\n",
       "      <td>A ripe wine that has red-berry fruits, slices ...</td>\n",
       "      <td>From one of Sicily's most beautiful and promis...</td>\n",
       "      <td>This wine plays close to the edge of overripe-...</td>\n",
       "      <td>This basic Prosecco is perfectly quaffable tha...</td>\n",
       "    </tr>\n",
       "    <tr>\n",
       "      <th>designation</th>\n",
       "      <td>Vila Santa Reserva</td>\n",
       "      <td>NaN</td>\n",
       "      <td>NaN</td>\n",
       "      <td>Thompson Vineyard</td>\n",
       "      <td>McKinley Springs Vineyard</td>\n",
       "      <td>Brut Nature Reserva</td>\n",
       "      <td>Cuvée Prestige</td>\n",
       "      <td>Baccante</td>\n",
       "      <td>NaN</td>\n",
       "      <td>Lellè Extra Dry</td>\n",
       "    </tr>\n",
       "    <tr>\n",
       "      <th>points</th>\n",
       "      <td>88.8709</td>\n",
       "      <td>88.0417</td>\n",
       "      <td>94.085</td>\n",
       "      <td>89.8698</td>\n",
       "      <td>89.0177</td>\n",
       "      <td>83.1187</td>\n",
       "      <td>88.3205</td>\n",
       "      <td>85.1735</td>\n",
       "      <td>85.9087</td>\n",
       "      <td>81.9295</td>\n",
       "    </tr>\n",
       "    <tr>\n",
       "      <th>price</th>\n",
       "      <td>20</td>\n",
       "      <td>28</td>\n",
       "      <td>130</td>\n",
       "      <td>34</td>\n",
       "      <td>24</td>\n",
       "      <td>13</td>\n",
       "      <td>35</td>\n",
       "      <td>42</td>\n",
       "      <td>38</td>\n",
       "      <td>14</td>\n",
       "    </tr>\n",
       "    <tr>\n",
       "      <th>province</th>\n",
       "      <td>Alentejano</td>\n",
       "      <td>Bordeaux</td>\n",
       "      <td>Bordeaux</td>\n",
       "      <td>California</td>\n",
       "      <td>Washington</td>\n",
       "      <td>Catalonia</td>\n",
       "      <td>Bordeaux</td>\n",
       "      <td>Sicily &amp; Sardinia</td>\n",
       "      <td>California</td>\n",
       "      <td>Veneto</td>\n",
       "    </tr>\n",
       "    <tr>\n",
       "      <th>region_1</th>\n",
       "      <td>NaN</td>\n",
       "      <td>Lalande de Pomerol</td>\n",
       "      <td>Saint-Émilion</td>\n",
       "      <td>Santa Barbara County</td>\n",
       "      <td>Horse Heaven Hills</td>\n",
       "      <td>Cava</td>\n",
       "      <td>Bordeaux Supérieur</td>\n",
       "      <td>Sicilia</td>\n",
       "      <td>Russian River Valley</td>\n",
       "      <td>Prosecco</td>\n",
       "    </tr>\n",
       "    <tr>\n",
       "      <th>region_2</th>\n",
       "      <td>NaN</td>\n",
       "      <td>NaN</td>\n",
       "      <td>NaN</td>\n",
       "      <td>Central Coast</td>\n",
       "      <td>Columbia Valley</td>\n",
       "      <td>NaN</td>\n",
       "      <td>NaN</td>\n",
       "      <td>NaN</td>\n",
       "      <td>Sonoma</td>\n",
       "      <td>NaN</td>\n",
       "    </tr>\n",
       "    <tr>\n",
       "      <th>taster_name</th>\n",
       "      <td>NaN</td>\n",
       "      <td>NaN</td>\n",
       "      <td>NaN</td>\n",
       "      <td>NaN</td>\n",
       "      <td>Sean P. Sullivan</td>\n",
       "      <td>Michael Schachner</td>\n",
       "      <td>Roger Voss</td>\n",
       "      <td>NaN</td>\n",
       "      <td>Virginie Boone</td>\n",
       "      <td>NaN</td>\n",
       "    </tr>\n",
       "    <tr>\n",
       "      <th>taster_twitter_handle</th>\n",
       "      <td>NaN</td>\n",
       "      <td>NaN</td>\n",
       "      <td>NaN</td>\n",
       "      <td>NaN</td>\n",
       "      <td>@wawinereport</td>\n",
       "      <td>@wineschach</td>\n",
       "      <td>@vossroger</td>\n",
       "      <td>NaN</td>\n",
       "      <td>@vboone</td>\n",
       "      <td>NaN</td>\n",
       "    </tr>\n",
       "    <tr>\n",
       "      <th>title</th>\n",
       "      <td>NaN</td>\n",
       "      <td>NaN</td>\n",
       "      <td>NaN</td>\n",
       "      <td>Jaffurs 2010 Thompson Vineyard Petite Sirah (S...</td>\n",
       "      <td>Syncline 2016 McKinley Springs Vineyard Rosé (...</td>\n",
       "      <td>Mas Fi NV Brut Nature Reserva Sparkling (Cava)</td>\n",
       "      <td>Château Tayet 2014 Cuvée Prestige  (Bordeaux S...</td>\n",
       "      <td>NaN</td>\n",
       "      <td>Matrix 2013 Pinot Noir (Russian River Valley)</td>\n",
       "      <td>NaN</td>\n",
       "    </tr>\n",
       "    <tr>\n",
       "      <th>variety</th>\n",
       "      <td>PORTUGUESE RED</td>\n",
       "      <td>BORDEAUX-STYLE RED BLEND</td>\n",
       "      <td>BORDEAUX-STYLE RED BLEND</td>\n",
       "      <td>PETITE SIRAH</td>\n",
       "      <td>ROSé</td>\n",
       "      <td>SPARKLING BLEND</td>\n",
       "      <td>BORDEAUX-STYLE RED BLEND</td>\n",
       "      <td>WHITE BLEND</td>\n",
       "      <td>PINOT NOIR</td>\n",
       "      <td>GLERA</td>\n",
       "    </tr>\n",
       "    <tr>\n",
       "      <th>winery</th>\n",
       "      <td>J. Portugal Ramos</td>\n",
       "      <td>Château Tour Grand Colombier</td>\n",
       "      <td>Château Figeac</td>\n",
       "      <td>Jaffurs</td>\n",
       "      <td>Syncline</td>\n",
       "      <td>Mas Fi</td>\n",
       "      <td>Château Tayet</td>\n",
       "      <td>Abbazia Santa Anastasia</td>\n",
       "      <td>Matrix</td>\n",
       "      <td>Fattoria Giuseppe Savini</td>\n",
       "    </tr>\n",
       "  </tbody>\n",
       "</table>\n",
       "</div>"
      ],
      "text/plain": [
       "                                                                       0  \\\n",
       "country                                                         Portugal   \n",
       "description            This is a fine rich balanced wine. It has ripe...   \n",
       "designation                                           Vila Santa Reserva   \n",
       "points                                                           88.8709   \n",
       "price                                                                 20   \n",
       "province                                                      Alentejano   \n",
       "region_1                                                             NaN   \n",
       "region_2                                                             NaN   \n",
       "taster_name                                                          NaN   \n",
       "taster_twitter_handle                                                NaN   \n",
       "title                                                                NaN   \n",
       "variety                                                   PORTUGUESE RED   \n",
       "winery                                                 J. Portugal Ramos   \n",
       "\n",
       "                                                                       1  \\\n",
       "country                                                           France   \n",
       "description            A solid, chunky wine, with a structure that is...   \n",
       "designation                                                          NaN   \n",
       "points                                                           88.0417   \n",
       "price                                                                 28   \n",
       "province                                                        Bordeaux   \n",
       "region_1                                              Lalande de Pomerol   \n",
       "region_2                                                             NaN   \n",
       "taster_name                                                          NaN   \n",
       "taster_twitter_handle                                                NaN   \n",
       "title                                                                NaN   \n",
       "variety                                         BORDEAUX-STYLE RED BLEND   \n",
       "winery                                      Château Tour Grand Colombier   \n",
       "\n",
       "                                                                       2  \\\n",
       "country                                                           France   \n",
       "description            This is powerful and concentrated, with the hi...   \n",
       "designation                                                          NaN   \n",
       "points                                                            94.085   \n",
       "price                                                                130   \n",
       "province                                                        Bordeaux   \n",
       "region_1                                                   Saint-Émilion   \n",
       "region_2                                                             NaN   \n",
       "taster_name                                                          NaN   \n",
       "taster_twitter_handle                                                NaN   \n",
       "title                                                                NaN   \n",
       "variety                                         BORDEAUX-STYLE RED BLEND   \n",
       "winery                                                    Château Figeac   \n",
       "\n",
       "                                                                       3  \\\n",
       "country                                                               US   \n",
       "description            Rich, ripe and oaky, this Petite Sirah charms ...   \n",
       "designation                                            Thompson Vineyard   \n",
       "points                                                           89.8698   \n",
       "price                                                                 34   \n",
       "province                                                      California   \n",
       "region_1                                            Santa Barbara County   \n",
       "region_2                                                   Central Coast   \n",
       "taster_name                                                          NaN   \n",
       "taster_twitter_handle                                                NaN   \n",
       "title                  Jaffurs 2010 Thompson Vineyard Petite Sirah (S...   \n",
       "variety                                                     PETITE SIRAH   \n",
       "winery                                                           Jaffurs   \n",
       "\n",
       "                                                                       4  \\\n",
       "country                                                               US   \n",
       "description            This wine is a unique in the state blend and f...   \n",
       "designation                                    McKinley Springs Vineyard   \n",
       "points                                                           89.0177   \n",
       "price                                                                 24   \n",
       "province                                                      Washington   \n",
       "region_1                                              Horse Heaven Hills   \n",
       "region_2                                                 Columbia Valley   \n",
       "taster_name                                             Sean P. Sullivan   \n",
       "taster_twitter_handle                                      @wawinereport   \n",
       "title                  Syncline 2016 McKinley Springs Vineyard Rosé (...   \n",
       "variety                                                             ROSé   \n",
       "winery                                                          Syncline   \n",
       "\n",
       "                                                                       5  \\\n",
       "country                                                            Spain   \n",
       "description            This brut nature is citric and bubbly on the p...   \n",
       "designation                                          Brut Nature Reserva   \n",
       "points                                                           83.1187   \n",
       "price                                                                 13   \n",
       "province                                                       Catalonia   \n",
       "region_1                                                            Cava   \n",
       "region_2                                                             NaN   \n",
       "taster_name                                            Michael Schachner   \n",
       "taster_twitter_handle                                        @wineschach   \n",
       "title                     Mas Fi NV Brut Nature Reserva Sparkling (Cava)   \n",
       "variety                                                  SPARKLING BLEND   \n",
       "winery                                                            Mas Fi   \n",
       "\n",
       "                                                                       6  \\\n",
       "country                                                           France   \n",
       "description            A ripe wine that has red-berry fruits, slices ...   \n",
       "designation                                               Cuvée Prestige   \n",
       "points                                                           88.3205   \n",
       "price                                                                 35   \n",
       "province                                                        Bordeaux   \n",
       "region_1                                              Bordeaux Supérieur   \n",
       "region_2                                                             NaN   \n",
       "taster_name                                                   Roger Voss   \n",
       "taster_twitter_handle                                         @vossroger   \n",
       "title                  Château Tayet 2014 Cuvée Prestige  (Bordeaux S...   \n",
       "variety                                         BORDEAUX-STYLE RED BLEND   \n",
       "winery                                                     Château Tayet   \n",
       "\n",
       "                                                                       7  \\\n",
       "country                                                            Italy   \n",
       "description            From one of Sicily's most beautiful and promis...   \n",
       "designation                                                     Baccante   \n",
       "points                                                           85.1735   \n",
       "price                                                                 42   \n",
       "province                                               Sicily & Sardinia   \n",
       "region_1                                                         Sicilia   \n",
       "region_2                                                             NaN   \n",
       "taster_name                                                          NaN   \n",
       "taster_twitter_handle                                                NaN   \n",
       "title                                                                NaN   \n",
       "variety                                                      WHITE BLEND   \n",
       "winery                                           Abbazia Santa Anastasia   \n",
       "\n",
       "                                                                       8  \\\n",
       "country                                                               US   \n",
       "description            This wine plays close to the edge of overripe-...   \n",
       "designation                                                          NaN   \n",
       "points                                                           85.9087   \n",
       "price                                                                 38   \n",
       "province                                                      California   \n",
       "region_1                                            Russian River Valley   \n",
       "region_2                                                          Sonoma   \n",
       "taster_name                                               Virginie Boone   \n",
       "taster_twitter_handle                                            @vboone   \n",
       "title                      Matrix 2013 Pinot Noir (Russian River Valley)   \n",
       "variety                                                       PINOT NOIR   \n",
       "winery                                                            Matrix   \n",
       "\n",
       "                                                                       9  \n",
       "country                                                            Italy  \n",
       "description            This basic Prosecco is perfectly quaffable tha...  \n",
       "designation                                              Lellè Extra Dry  \n",
       "points                                                           81.9295  \n",
       "price                                                                 14  \n",
       "province                                                          Veneto  \n",
       "region_1                                                        Prosecco  \n",
       "region_2                                                             NaN  \n",
       "taster_name                                                          NaN  \n",
       "taster_twitter_handle                                                NaN  \n",
       "title                                                                NaN  \n",
       "variety                                                            GLERA  \n",
       "winery                                          Fattoria Giuseppe Savini  "
      ]
     },
     "execution_count": 8,
     "metadata": {},
     "output_type": "execute_result"
    }
   ],
   "source": [
    "all_df.head(10).T"
   ]
  },
  {
   "cell_type": "code",
   "execution_count": 9,
   "metadata": {},
   "outputs": [
    {
     "data": {
      "text/html": [
       "<div>\n",
       "<style scoped>\n",
       "    .dataframe tbody tr th:only-of-type {\n",
       "        vertical-align: middle;\n",
       "    }\n",
       "\n",
       "    .dataframe tbody tr th {\n",
       "        vertical-align: top;\n",
       "    }\n",
       "\n",
       "    .dataframe thead th {\n",
       "        text-align: right;\n",
       "    }\n",
       "</style>\n",
       "<table border=\"1\" class=\"dataframe\">\n",
       "  <thead>\n",
       "    <tr style=\"text-align: right;\">\n",
       "      <th></th>\n",
       "      <th>train_data (17500)</th>\n",
       "      <th>test_data (83210)</th>\n",
       "    </tr>\n",
       "  </thead>\n",
       "  <tbody>\n",
       "    <tr>\n",
       "      <th>country</th>\n",
       "      <td>174953</td>\n",
       "      <td>83193</td>\n",
       "    </tr>\n",
       "    <tr>\n",
       "      <th>description</th>\n",
       "      <td>175000</td>\n",
       "      <td>83210</td>\n",
       "    </tr>\n",
       "    <tr>\n",
       "      <th>designation</th>\n",
       "      <td>122734</td>\n",
       "      <td>58386</td>\n",
       "    </tr>\n",
       "    <tr>\n",
       "      <th>points</th>\n",
       "      <td>175000</td>\n",
       "      <td>83210</td>\n",
       "    </tr>\n",
       "    <tr>\n",
       "      <th>price</th>\n",
       "      <td>175000</td>\n",
       "      <td>0</td>\n",
       "    </tr>\n",
       "    <tr>\n",
       "      <th>province</th>\n",
       "      <td>174953</td>\n",
       "      <td>83193</td>\n",
       "    </tr>\n",
       "    <tr>\n",
       "      <th>region_1</th>\n",
       "      <td>146466</td>\n",
       "      <td>69327</td>\n",
       "    </tr>\n",
       "    <tr>\n",
       "      <th>region_2</th>\n",
       "      <td>75394</td>\n",
       "      <td>35602</td>\n",
       "    </tr>\n",
       "    <tr>\n",
       "      <th>taster_name</th>\n",
       "      <td>65509</td>\n",
       "      <td>30970</td>\n",
       "    </tr>\n",
       "    <tr>\n",
       "      <th>taster_twitter_handle</th>\n",
       "      <td>62190</td>\n",
       "      <td>29369</td>\n",
       "    </tr>\n",
       "    <tr>\n",
       "      <th>title</th>\n",
       "      <td>82189</td>\n",
       "      <td>38786</td>\n",
       "    </tr>\n",
       "    <tr>\n",
       "      <th>variety</th>\n",
       "      <td>174999</td>\n",
       "      <td>83210</td>\n",
       "    </tr>\n",
       "    <tr>\n",
       "      <th>winery</th>\n",
       "      <td>175000</td>\n",
       "      <td>83210</td>\n",
       "    </tr>\n",
       "  </tbody>\n",
       "</table>\n",
       "</div>"
      ],
      "text/plain": [
       "                       train_data (17500)  test_data (83210)\n",
       "country                            174953              83193\n",
       "description                        175000              83210\n",
       "designation                        122734              58386\n",
       "points                             175000              83210\n",
       "price                              175000                  0\n",
       "province                           174953              83193\n",
       "region_1                           146466              69327\n",
       "region_2                            75394              35602\n",
       "taster_name                         65509              30970\n",
       "taster_twitter_handle               62190              29369\n",
       "title                               82189              38786\n",
       "variety                            174999              83210\n",
       "winery                             175000              83210"
      ]
     },
     "execution_count": 9,
     "metadata": {},
     "output_type": "execute_result"
    }
   ],
   "source": [
    "# Check if similar amount of null values in train and test columns\n",
    "a = train_df.count()\n",
    "b = test_df.count()\n",
    "pd.DataFrame({\"train_data (17500)\": a, \"test_data (83210)\": b})"
   ]
  },
  {
   "cell_type": "code",
   "execution_count": 10,
   "metadata": {},
   "outputs": [
    {
     "name": "stdout",
     "output_type": "stream",
     "text": [
      "<class 'pandas.core.frame.DataFrame'>\n",
      "RangeIndex: 175000 entries, 0 to 174999\n",
      "Data columns (total 13 columns):\n",
      "country                  174953 non-null object\n",
      "description              175000 non-null object\n",
      "designation              122734 non-null object\n",
      "points                   175000 non-null float64\n",
      "price                    175000 non-null float64\n",
      "province                 174953 non-null object\n",
      "region_1                 146466 non-null object\n",
      "region_2                 75394 non-null object\n",
      "taster_name              65509 non-null object\n",
      "taster_twitter_handle    62190 non-null object\n",
      "title                    82189 non-null object\n",
      "variety                  174999 non-null object\n",
      "winery                   175000 non-null object\n",
      "dtypes: float64(2), object(11)\n",
      "memory usage: 17.4+ MB\n",
      "<class 'pandas.core.frame.DataFrame'>\n",
      "Int64Index: 83210 entries, 0 to 83209\n",
      "Data columns (total 13 columns):\n",
      "country                  83193 non-null object\n",
      "description              83210 non-null object\n",
      "designation              58386 non-null object\n",
      "points                   83210 non-null float64\n",
      "price                    0 non-null float64\n",
      "province                 83193 non-null object\n",
      "region_1                 69327 non-null object\n",
      "region_2                 35602 non-null object\n",
      "taster_name              30970 non-null object\n",
      "taster_twitter_handle    29369 non-null object\n",
      "title                    38786 non-null object\n",
      "variety                  83210 non-null object\n",
      "winery                   83210 non-null object\n",
      "dtypes: float64(2), object(11)\n",
      "memory usage: 8.9+ MB\n"
     ]
    },
    {
     "data": {
      "text/plain": [
       "(None, None)"
      ]
     },
     "execution_count": 10,
     "metadata": {},
     "output_type": "execute_result"
    }
   ],
   "source": [
    "# Check data types\n",
    "train_df.info(),  test_df.info()"
   ]
  },
  {
   "cell_type": "markdown",
   "metadata": {},
   "source": [
    "Observations: Only one numeric predictor; Many columns with null values"
   ]
  },
  {
   "cell_type": "code",
   "execution_count": 11,
   "metadata": {},
   "outputs": [
    {
     "data": {
      "text/html": [
       "<div>\n",
       "<style scoped>\n",
       "    .dataframe tbody tr th:only-of-type {\n",
       "        vertical-align: middle;\n",
       "    }\n",
       "\n",
       "    .dataframe tbody tr th {\n",
       "        vertical-align: top;\n",
       "    }\n",
       "\n",
       "    .dataframe thead th {\n",
       "        text-align: right;\n",
       "    }\n",
       "</style>\n",
       "<table border=\"1\" class=\"dataframe\">\n",
       "  <thead>\n",
       "    <tr style=\"text-align: right;\">\n",
       "      <th></th>\n",
       "      <th>% Null Values in Data Set</th>\n",
       "    </tr>\n",
       "  </thead>\n",
       "  <tbody>\n",
       "    <tr>\n",
       "      <th>country</th>\n",
       "      <td>0.024786</td>\n",
       "    </tr>\n",
       "    <tr>\n",
       "      <th>description</th>\n",
       "      <td>0.000000</td>\n",
       "    </tr>\n",
       "    <tr>\n",
       "      <th>designation</th>\n",
       "      <td>29.855544</td>\n",
       "    </tr>\n",
       "    <tr>\n",
       "      <th>points</th>\n",
       "      <td>0.000000</td>\n",
       "    </tr>\n",
       "    <tr>\n",
       "      <th>province</th>\n",
       "      <td>0.024786</td>\n",
       "    </tr>\n",
       "    <tr>\n",
       "      <th>region_1</th>\n",
       "      <td>16.427327</td>\n",
       "    </tr>\n",
       "    <tr>\n",
       "      <th>region_2</th>\n",
       "      <td>57.013284</td>\n",
       "    </tr>\n",
       "    <tr>\n",
       "      <th>taster_name</th>\n",
       "      <td>62.635452</td>\n",
       "    </tr>\n",
       "    <tr>\n",
       "      <th>taster_twitter_handle</th>\n",
       "      <td>64.540878</td>\n",
       "    </tr>\n",
       "    <tr>\n",
       "      <th>title</th>\n",
       "      <td>53.148600</td>\n",
       "    </tr>\n",
       "    <tr>\n",
       "      <th>variety</th>\n",
       "      <td>0.000387</td>\n",
       "    </tr>\n",
       "    <tr>\n",
       "      <th>winery</th>\n",
       "      <td>0.000000</td>\n",
       "    </tr>\n",
       "  </tbody>\n",
       "</table>\n",
       "</div>"
      ],
      "text/plain": [
       "                       % Null Values in Data Set\n",
       "country                                 0.024786\n",
       "description                             0.000000\n",
       "designation                            29.855544\n",
       "points                                  0.000000\n",
       "province                                0.024786\n",
       "region_1                               16.427327\n",
       "region_2                               57.013284\n",
       "taster_name                            62.635452\n",
       "taster_twitter_handle                  64.540878\n",
       "title                                  53.148600\n",
       "variety                                 0.000387\n",
       "winery                                  0.000000"
      ]
     },
     "execution_count": 11,
     "metadata": {},
     "output_type": "execute_result"
    }
   ],
   "source": [
    "# % of  NULL values\n",
    "null_values = [all_df[x].isnull().sum() *100/258210 for x in all_df.drop(columns=[\"price\"]).columns ]\n",
    "pd.DataFrame(null_values, index=all_df.drop(columns=[\"price\"]).columns, columns=[\"% Null Values in Data Set\"])"
   ]
  },
  {
   "cell_type": "markdown",
   "metadata": {},
   "source": [
    "Observation: Designation, regions, tasters, title have sparse vectors"
   ]
  },
  {
   "cell_type": "code",
   "execution_count": 12,
   "metadata": {},
   "outputs": [
    {
     "data": {
      "text/html": [
       "<div>\n",
       "<style scoped>\n",
       "    .dataframe tbody tr th:only-of-type {\n",
       "        vertical-align: middle;\n",
       "    }\n",
       "\n",
       "    .dataframe tbody tr th {\n",
       "        vertical-align: top;\n",
       "    }\n",
       "\n",
       "    .dataframe thead th {\n",
       "        text-align: right;\n",
       "    }\n",
       "</style>\n",
       "<table border=\"1\" class=\"dataframe\">\n",
       "  <thead>\n",
       "    <tr style=\"text-align: right;\">\n",
       "      <th></th>\n",
       "      <th>points</th>\n",
       "      <th>price</th>\n",
       "    </tr>\n",
       "  </thead>\n",
       "  <tbody>\n",
       "    <tr>\n",
       "      <th>count</th>\n",
       "      <td>175000.000000</td>\n",
       "      <td>175000.000000</td>\n",
       "    </tr>\n",
       "    <tr>\n",
       "      <th>mean</th>\n",
       "      <td>88.083987</td>\n",
       "      <td>34.304400</td>\n",
       "    </tr>\n",
       "    <tr>\n",
       "      <th>std</th>\n",
       "      <td>3.157001</td>\n",
       "      <td>38.398146</td>\n",
       "    </tr>\n",
       "    <tr>\n",
       "      <th>min</th>\n",
       "      <td>79.636128</td>\n",
       "      <td>4.000000</td>\n",
       "    </tr>\n",
       "    <tr>\n",
       "      <th>25%</th>\n",
       "      <td>85.971283</td>\n",
       "      <td>16.000000</td>\n",
       "    </tr>\n",
       "    <tr>\n",
       "      <th>50%</th>\n",
       "      <td>87.981631</td>\n",
       "      <td>25.000000</td>\n",
       "    </tr>\n",
       "    <tr>\n",
       "      <th>75%</th>\n",
       "      <td>90.085631</td>\n",
       "      <td>40.000000</td>\n",
       "    </tr>\n",
       "    <tr>\n",
       "      <th>max</th>\n",
       "      <td>100.220603</td>\n",
       "      <td>2500.000000</td>\n",
       "    </tr>\n",
       "  </tbody>\n",
       "</table>\n",
       "</div>"
      ],
      "text/plain": [
       "              points          price\n",
       "count  175000.000000  175000.000000\n",
       "mean       88.083987      34.304400\n",
       "std         3.157001      38.398146\n",
       "min        79.636128       4.000000\n",
       "25%        85.971283      16.000000\n",
       "50%        87.981631      25.000000\n",
       "75%        90.085631      40.000000\n",
       "max       100.220603    2500.000000"
      ]
     },
     "execution_count": 12,
     "metadata": {},
     "output_type": "execute_result"
    }
   ],
   "source": [
    "train_df.describe()"
   ]
  },
  {
   "cell_type": "markdown",
   "metadata": {},
   "source": [
    "Observation: Points range from 79 to 100(approx), with a mean of 88. Price has a large range and probably skewed"
   ]
  },
  {
   "cell_type": "code",
   "execution_count": 13,
   "metadata": {},
   "outputs": [
    {
     "data": {
      "image/png": "[encoded data removed]",
      "text/plain": [
       "<Figure size 864x288 with 2 Axes>"
      ]
     },
     "metadata": {
      "needs_background": "light"
     },
     "output_type": "display_data"
    }
   ],
   "source": [
    "fig, ax = plt.subplots(1,2, figsize=(12,4))\n",
    "ax[0].scatter(train_df['points'], train_df['price'])\n",
    "ax[1].hist(train_df['price'], bins=200)\n",
    "\n",
    "ax[0].set_title(\"Point & Price Relationship\")\n",
    "ax[1].set_title(\"Price Distribution\")\n",
    "\n",
    "plt.tight_layout()"
   ]
  },
  {
   "cell_type": "code",
   "execution_count": 14,
   "metadata": {},
   "outputs": [
    {
     "data": {
      "text/html": [
       "<div>\n",
       "<style scoped>\n",
       "    .dataframe tbody tr th:only-of-type {\n",
       "        vertical-align: middle;\n",
       "    }\n",
       "\n",
       "    .dataframe tbody tr th {\n",
       "        vertical-align: top;\n",
       "    }\n",
       "\n",
       "    .dataframe thead th {\n",
       "        text-align: right;\n",
       "    }\n",
       "</style>\n",
       "<table border=\"1\" class=\"dataframe\">\n",
       "  <thead>\n",
       "    <tr style=\"text-align: right;\">\n",
       "      <th></th>\n",
       "      <th>points</th>\n",
       "      <th>price</th>\n",
       "    </tr>\n",
       "  </thead>\n",
       "  <tbody>\n",
       "    <tr>\n",
       "      <th>count</th>\n",
       "      <td>258210.000000</td>\n",
       "      <td>175000.000000</td>\n",
       "    </tr>\n",
       "    <tr>\n",
       "      <th>mean</th>\n",
       "      <td>88.084734</td>\n",
       "      <td>34.304400</td>\n",
       "    </tr>\n",
       "    <tr>\n",
       "      <th>std</th>\n",
       "      <td>3.157554</td>\n",
       "      <td>38.398146</td>\n",
       "    </tr>\n",
       "    <tr>\n",
       "      <th>min</th>\n",
       "      <td>79.636128</td>\n",
       "      <td>4.000000</td>\n",
       "    </tr>\n",
       "    <tr>\n",
       "      <th>25%</th>\n",
       "      <td>85.969390</td>\n",
       "      <td>16.000000</td>\n",
       "    </tr>\n",
       "    <tr>\n",
       "      <th>50%</th>\n",
       "      <td>87.981722</td>\n",
       "      <td>25.000000</td>\n",
       "    </tr>\n",
       "    <tr>\n",
       "      <th>75%</th>\n",
       "      <td>90.088168</td>\n",
       "      <td>40.000000</td>\n",
       "    </tr>\n",
       "    <tr>\n",
       "      <th>max</th>\n",
       "      <td>100.220603</td>\n",
       "      <td>2500.000000</td>\n",
       "    </tr>\n",
       "  </tbody>\n",
       "</table>\n",
       "</div>"
      ],
      "text/plain": [
       "              points          price\n",
       "count  258210.000000  175000.000000\n",
       "mean       88.084734      34.304400\n",
       "std         3.157554      38.398146\n",
       "min        79.636128       4.000000\n",
       "25%        85.969390      16.000000\n",
       "50%        87.981722      25.000000\n",
       "75%        90.088168      40.000000\n",
       "max       100.220603    2500.000000"
      ]
     },
     "execution_count": 14,
     "metadata": {},
     "output_type": "execute_result"
    }
   ],
   "source": [
    "all_df.describe()"
   ]
  },
  {
   "cell_type": "code",
   "execution_count": 15,
   "metadata": {},
   "outputs": [
    {
     "name": "stdout",
     "output_type": "stream",
     "text": [
      "          points     price\n",
      "points  1.000000  0.443276\n",
      "price   0.443276  1.000000\n"
     ]
    }
   ],
   "source": [
    "print(all_df[['points', 'price']].corr())"
   ]
  },
  {
   "cell_type": "code",
   "execution_count": 16,
   "metadata": {},
   "outputs": [],
   "source": [
    "#del train_df['price']"
   ]
  },
  {
   "cell_type": "markdown",
   "metadata": {},
   "source": [
    "### Imputation / Dealing with null values"
   ]
  },
  {
   "cell_type": "markdown",
   "metadata": {},
   "source": [
    "Missing: **Variety**  \n",
    "Missing variety can be found in title"
   ]
  },
  {
   "cell_type": "code",
   "execution_count": 17,
   "metadata": {},
   "outputs": [
    {
     "data": {
      "text/html": [
       "<div>\n",
       "<style scoped>\n",
       "    .dataframe tbody tr th:only-of-type {\n",
       "        vertical-align: middle;\n",
       "    }\n",
       "\n",
       "    .dataframe tbody tr th {\n",
       "        vertical-align: top;\n",
       "    }\n",
       "\n",
       "    .dataframe thead th {\n",
       "        text-align: right;\n",
       "    }\n",
       "</style>\n",
       "<table border=\"1\" class=\"dataframe\">\n",
       "  <thead>\n",
       "    <tr style=\"text-align: right;\">\n",
       "      <th></th>\n",
       "      <th>country</th>\n",
       "      <th>description</th>\n",
       "      <th>designation</th>\n",
       "      <th>points</th>\n",
       "      <th>price</th>\n",
       "      <th>province</th>\n",
       "      <th>region_1</th>\n",
       "      <th>region_2</th>\n",
       "      <th>taster_name</th>\n",
       "      <th>taster_twitter_handle</th>\n",
       "      <th>title</th>\n",
       "      <th>variety</th>\n",
       "      <th>winery</th>\n",
       "    </tr>\n",
       "  </thead>\n",
       "  <tbody>\n",
       "    <tr>\n",
       "      <th>86403</th>\n",
       "      <td>Chile</td>\n",
       "      <td>A chalky, dusty mouthfeel nicely balances this...</td>\n",
       "      <td>NaN</td>\n",
       "      <td>88.046742</td>\n",
       "      <td>17.0</td>\n",
       "      <td>Maipo Valley</td>\n",
       "      <td>NaN</td>\n",
       "      <td>NaN</td>\n",
       "      <td>NaN</td>\n",
       "      <td>NaN</td>\n",
       "      <td>Carmen 1999  (Maipo Valley)</td>\n",
       "      <td>NaN</td>\n",
       "      <td>Carmen</td>\n",
       "    </tr>\n",
       "  </tbody>\n",
       "</table>\n",
       "</div>"
      ],
      "text/plain": [
       "      country                                        description designation  \\\n",
       "86403   Chile  A chalky, dusty mouthfeel nicely balances this...         NaN   \n",
       "\n",
       "          points  price      province region_1 region_2 taster_name  \\\n",
       "86403  88.046742   17.0  Maipo Valley      NaN      NaN         NaN   \n",
       "\n",
       "      taster_twitter_handle                        title variety  winery  \n",
       "86403                   NaN  Carmen 1999  (Maipo Valley)     NaN  Carmen  "
      ]
     },
     "execution_count": 17,
     "metadata": {},
     "output_type": "execute_result"
    }
   ],
   "source": [
    "all_df[all_df['variety'].isnull()]"
   ]
  },
  {
   "cell_type": "code",
   "execution_count": 18,
   "metadata": {},
   "outputs": [
    {
     "name": "stdout",
     "output_type": "stream",
     "text": [
      "CABERNET SAUVIGNON\n"
     ]
    }
   ],
   "source": [
    "variety = train_df[(train_df['province'] == 'Maipo Valley') & (train_df['winery'] == 'Carmen')]['variety'].mode()[0]\n",
    "print(variety)\n",
    "\n",
    "all_df['variety'][86403] = variety"
   ]
  },
  {
   "cell_type": "markdown",
   "metadata": {},
   "source": [
    "Missing: **Designation**  \n",
    "Information of 'designation' is contained in 'title'"
   ]
  },
  {
   "cell_type": "code",
   "execution_count": 19,
   "metadata": {},
   "outputs": [
    {
     "data": {
      "text/html": [
       "<div>\n",
       "<style scoped>\n",
       "    .dataframe tbody tr th:only-of-type {\n",
       "        vertical-align: middle;\n",
       "    }\n",
       "\n",
       "    .dataframe tbody tr th {\n",
       "        vertical-align: top;\n",
       "    }\n",
       "\n",
       "    .dataframe thead th {\n",
       "        text-align: right;\n",
       "    }\n",
       "</style>\n",
       "<table border=\"1\" class=\"dataframe\">\n",
       "  <thead>\n",
       "    <tr style=\"text-align: right;\">\n",
       "      <th></th>\n",
       "      <th>title</th>\n",
       "      <th>designation</th>\n",
       "      <th>region_1</th>\n",
       "    </tr>\n",
       "  </thead>\n",
       "  <tbody>\n",
       "    <tr>\n",
       "      <th>5</th>\n",
       "      <td>Mas Fi NV Brut Nature Reserva Sparkling (Cava)</td>\n",
       "      <td>Brut Nature Reserva</td>\n",
       "      <td>Cava</td>\n",
       "    </tr>\n",
       "    <tr>\n",
       "      <th>6</th>\n",
       "      <td>Château Tayet 2014 Cuvée Prestige  (Bordeaux S...</td>\n",
       "      <td>Cuvée Prestige</td>\n",
       "      <td>Bordeaux Supérieur</td>\n",
       "    </tr>\n",
       "    <tr>\n",
       "      <th>7</th>\n",
       "      <td>NaN</td>\n",
       "      <td>Baccante</td>\n",
       "      <td>Sicilia</td>\n",
       "    </tr>\n",
       "    <tr>\n",
       "      <th>8</th>\n",
       "      <td>Matrix 2013 Pinot Noir (Russian River Valley)</td>\n",
       "      <td>NaN</td>\n",
       "      <td>Russian River Valley</td>\n",
       "    </tr>\n",
       "    <tr>\n",
       "      <th>9</th>\n",
       "      <td>NaN</td>\n",
       "      <td>Lellè Extra Dry</td>\n",
       "      <td>Prosecco</td>\n",
       "    </tr>\n",
       "    <tr>\n",
       "      <th>10</th>\n",
       "      <td>Domaine d'Eole 2005 Réserve des Gardians Red (...</td>\n",
       "      <td>Réserve des Gardians</td>\n",
       "      <td>Coteaux d'Aix-en-Provence</td>\n",
       "    </tr>\n",
       "    <tr>\n",
       "      <th>11</th>\n",
       "      <td>NaN</td>\n",
       "      <td>NaN</td>\n",
       "      <td>NaN</td>\n",
       "    </tr>\n",
       "    <tr>\n",
       "      <th>12</th>\n",
       "      <td>NaN</td>\n",
       "      <td>Thauvenay</td>\n",
       "      <td>Sancerre</td>\n",
       "    </tr>\n",
       "    <tr>\n",
       "      <th>13</th>\n",
       "      <td>NaN</td>\n",
       "      <td>Vin d'Eliza</td>\n",
       "      <td>Paso Robles</td>\n",
       "    </tr>\n",
       "    <tr>\n",
       "      <th>14</th>\n",
       "      <td>Goat Bubbles 2011 Sierra Madre Vineyard Créman...</td>\n",
       "      <td>Sierra Madre Vineyard Crémant</td>\n",
       "      <td>Santa Maria Valley</td>\n",
       "    </tr>\n",
       "  </tbody>\n",
       "</table>\n",
       "</div>"
      ],
      "text/plain": [
       "                                                title  \\\n",
       "5      Mas Fi NV Brut Nature Reserva Sparkling (Cava)   \n",
       "6   Château Tayet 2014 Cuvée Prestige  (Bordeaux S...   \n",
       "7                                                 NaN   \n",
       "8       Matrix 2013 Pinot Noir (Russian River Valley)   \n",
       "9                                                 NaN   \n",
       "10  Domaine d'Eole 2005 Réserve des Gardians Red (...   \n",
       "11                                                NaN   \n",
       "12                                                NaN   \n",
       "13                                                NaN   \n",
       "14  Goat Bubbles 2011 Sierra Madre Vineyard Créman...   \n",
       "\n",
       "                      designation                   region_1  \n",
       "5             Brut Nature Reserva                       Cava  \n",
       "6                  Cuvée Prestige         Bordeaux Supérieur  \n",
       "7                        Baccante                    Sicilia  \n",
       "8                             NaN       Russian River Valley  \n",
       "9                 Lellè Extra Dry                   Prosecco  \n",
       "10           Réserve des Gardians  Coteaux d'Aix-en-Provence  \n",
       "11                            NaN                        NaN  \n",
       "12                      Thauvenay                   Sancerre  \n",
       "13                    Vin d'Eliza                Paso Robles  \n",
       "14  Sierra Madre Vineyard Crémant         Santa Maria Valley  "
      ]
     },
     "execution_count": 19,
     "metadata": {},
     "output_type": "execute_result"
    }
   ],
   "source": [
    "all_df[['title', 'designation', 'region_1']][5:15]"
   ]
  },
  {
   "cell_type": "code",
   "execution_count": 20,
   "metadata": {},
   "outputs": [],
   "source": [
    "import re"
   ]
  },
  {
   "cell_type": "markdown",
   "metadata": {},
   "source": [
    "Missing: **Region 1**"
   ]
  },
  {
   "cell_type": "code",
   "execution_count": 21,
   "metadata": {},
   "outputs": [
    {
     "data": {
      "text/plain": [
       "72489     Abruzzo\n",
       "25966     Abruzzo\n",
       "55290     Abruzzo\n",
       "103236    Abruzzo\n",
       "3977      Abruzzo\n",
       "           ...   \n",
       "258194        NaN\n",
       "258195        NaN\n",
       "258196        NaN\n",
       "258199        NaN\n",
       "258202        NaN\n",
       "Name: region_1, Length: 258210, dtype: object"
      ]
     },
     "execution_count": 21,
     "metadata": {},
     "output_type": "execute_result"
    }
   ],
   "source": [
    "all_df['region_1'].sort_values()"
   ]
  },
  {
   "cell_type": "code",
   "execution_count": 22,
   "metadata": {},
   "outputs": [
    {
     "data": {
      "text/html": [
       "<div>\n",
       "<style scoped>\n",
       "    .dataframe tbody tr th:only-of-type {\n",
       "        vertical-align: middle;\n",
       "    }\n",
       "\n",
       "    .dataframe tbody tr th {\n",
       "        vertical-align: top;\n",
       "    }\n",
       "\n",
       "    .dataframe thead th {\n",
       "        text-align: right;\n",
       "    }\n",
       "</style>\n",
       "<table border=\"1\" class=\"dataframe\">\n",
       "  <thead>\n",
       "    <tr style=\"text-align: right;\">\n",
       "      <th></th>\n",
       "      <th>region_1</th>\n",
       "      <th>title</th>\n",
       "    </tr>\n",
       "  </thead>\n",
       "  <tbody>\n",
       "    <tr>\n",
       "      <th>0</th>\n",
       "      <td>NaN</td>\n",
       "      <td>NaN</td>\n",
       "    </tr>\n",
       "    <tr>\n",
       "      <th>1</th>\n",
       "      <td>Lalande de Pomerol</td>\n",
       "      <td>NaN</td>\n",
       "    </tr>\n",
       "    <tr>\n",
       "      <th>2</th>\n",
       "      <td>Saint-Émilion</td>\n",
       "      <td>NaN</td>\n",
       "    </tr>\n",
       "    <tr>\n",
       "      <th>3</th>\n",
       "      <td>Santa Barbara County</td>\n",
       "      <td>Jaffurs 2010 Thompson Vineyard Petite Sirah (S...</td>\n",
       "    </tr>\n",
       "    <tr>\n",
       "      <th>4</th>\n",
       "      <td>Horse Heaven Hills</td>\n",
       "      <td>Syncline 2016 McKinley Springs Vineyard Rosé (...</td>\n",
       "    </tr>\n",
       "    <tr>\n",
       "      <th>5</th>\n",
       "      <td>Cava</td>\n",
       "      <td>Mas Fi NV Brut Nature Reserva Sparkling (Cava)</td>\n",
       "    </tr>\n",
       "    <tr>\n",
       "      <th>6</th>\n",
       "      <td>Bordeaux Supérieur</td>\n",
       "      <td>Château Tayet 2014 Cuvée Prestige  (Bordeaux S...</td>\n",
       "    </tr>\n",
       "    <tr>\n",
       "      <th>7</th>\n",
       "      <td>Sicilia</td>\n",
       "      <td>NaN</td>\n",
       "    </tr>\n",
       "    <tr>\n",
       "      <th>8</th>\n",
       "      <td>Russian River Valley</td>\n",
       "      <td>Matrix 2013 Pinot Noir (Russian River Valley)</td>\n",
       "    </tr>\n",
       "    <tr>\n",
       "      <th>9</th>\n",
       "      <td>Prosecco</td>\n",
       "      <td>NaN</td>\n",
       "    </tr>\n",
       "  </tbody>\n",
       "</table>\n",
       "</div>"
      ],
      "text/plain": [
       "               region_1                                              title\n",
       "0                   NaN                                                NaN\n",
       "1    Lalande de Pomerol                                                NaN\n",
       "2         Saint-Émilion                                                NaN\n",
       "3  Santa Barbara County  Jaffurs 2010 Thompson Vineyard Petite Sirah (S...\n",
       "4    Horse Heaven Hills  Syncline 2016 McKinley Springs Vineyard Rosé (...\n",
       "5                  Cava     Mas Fi NV Brut Nature Reserva Sparkling (Cava)\n",
       "6    Bordeaux Supérieur  Château Tayet 2014 Cuvée Prestige  (Bordeaux S...\n",
       "7               Sicilia                                                NaN\n",
       "8  Russian River Valley      Matrix 2013 Pinot Noir (Russian River Valley)\n",
       "9              Prosecco                                                NaN"
      ]
     },
     "execution_count": 22,
     "metadata": {},
     "output_type": "execute_result"
    }
   ],
   "source": [
    "all_df[['region_1', 'title']].head(10)"
   ]
  },
  {
   "cell_type": "code",
   "execution_count": 23,
   "metadata": {},
   "outputs": [
    {
     "name": "stdout",
     "output_type": "stream",
     "text": [
      "Number of NA values in region before imputation: 42417\n"
     ]
    }
   ],
   "source": [
    "# Extract region from title\n",
    "def get_regions(string):\n",
    "    if type(string) is str:\n",
    "        try:\n",
    "            detached_string = re.search(r'\\((.*?)\\)', string).group(1).strip()\n",
    "            return detached_string\n",
    "        except:\n",
    "            return np.nan\n",
    "    else: return np.nan\n",
    "all_df[\"temp_region\"]= all_df[\"title\"].apply(get_regions)\n",
    "\n",
    "print(\"Number of NA values in region before imputation:\", all_df[\"region_1\"].isna().sum() )"
   ]
  },
  {
   "cell_type": "code",
   "execution_count": 24,
   "metadata": {},
   "outputs": [
    {
     "name": "stdout",
     "output_type": "stream",
     "text": [
      "Number of NA values in region after imputation: 23236\n"
     ]
    }
   ],
   "source": [
    "# Replace empty regions with extracted regions\n",
    "all_df.region_1.fillna(all_df.temp_region, inplace=True)\n",
    "\n",
    "del all_df['temp_region']\n",
    "\n",
    "#Check number after fillna\n",
    "print(\"Number of NA values in region after imputation:\", all_df[\"region_1\"].isna().sum() )"
   ]
  },
  {
   "cell_type": "markdown",
   "metadata": {},
   "source": [
    "Observation: About 50% drop in NA values"
   ]
  },
  {
   "cell_type": "code",
   "execution_count": 25,
   "metadata": {},
   "outputs": [
    {
     "data": {
      "text/plain": [
       "Napa Valley                       10666\n",
       "Columbia Valley (WA)               9050\n",
       "Russian River Valley               6627\n",
       "California                         6087\n",
       "Mendoza                            5831\n",
       "                                  ...  \n",
       "Waitaki Valley                        1\n",
       "Todi                                  1\n",
       "Paso Robles Highlands District        1\n",
       "Kathikas                              1\n",
       "Dolenjska                             1\n",
       "Name: region_1, Length: 1672, dtype: int64"
      ]
     },
     "execution_count": 25,
     "metadata": {},
     "output_type": "execute_result"
    }
   ],
   "source": [
    "all_df['region_1'].value_counts()"
   ]
  },
  {
   "cell_type": "markdown",
   "metadata": {},
   "source": [
    "### Feature Engineering"
   ]
  },
  {
   "cell_type": "markdown",
   "metadata": {},
   "source": [
    "### Points"
   ]
  },
  {
   "cell_type": "markdown",
   "metadata": {},
   "source": [
    "Source: https://towardsdatascience.com/wine-ratings-prediction-using-machine-learning-ce259832b321  \n",
    "https://towardsdatascience.com/predicting-wine-quality-using-text-reviews-8bddaeb5285d  \n",
    "Range of Points is 79 to 101  \n",
    "1 -> Points 80 to 82 (Acceptable wines)  \n",
    "2 -> Points 83 to 86 (Good wines)  \n",
    "3 -> Points 87 to 89 (Very Good wines)  \n",
    "4 -> Points 90 to 93 (Excellent wines)  \n",
    "5 -> Points 94 to 101 (Superb wines)  "
   ]
  },
  {
   "cell_type": "code",
   "execution_count": 26,
   "metadata": {},
   "outputs": [],
   "source": [
    "def choose_points(point):\n",
    "    if   point >= 94: return 5\n",
    "    elif point >= 90: return 4\n",
    "    elif point >= 87: return 3\n",
    "    elif point >= 83: return 2\n",
    "    else: return 1\n",
    "\n",
    "all_df['ratings'] = all_df['points'].apply(choose_points)"
   ]
  },
  {
   "cell_type": "code",
   "execution_count": 27,
   "metadata": {},
   "outputs": [
    {
     "data": {
      "text/plain": [
       "<matplotlib.axes._subplots.AxesSubplot at 0x7fc8f5912b00>"
      ]
     },
     "execution_count": 27,
     "metadata": {},
     "output_type": "execute_result"
    },
    {
     "data": {
      "image/png": "[encoded data removed]",
      "text/plain": [
       "<Figure size 720x360 with 1 Axes>"
      ]
     },
     "metadata": {
      "needs_background": "light"
     },
     "output_type": "display_data"
    }
   ],
   "source": [
    "all_df['ratings'].value_counts().to_frame().plot(kind='bar', \n",
    "                                                 figsize=(10,5),\n",
    "                                                    title=\"Distribution of Wine Ratings\")"
   ]
  },
  {
   "cell_type": "markdown",
   "metadata": {},
   "source": [
    "Observation: Imbalanced data cos some ratings have low data"
   ]
  },
  {
   "cell_type": "markdown",
   "metadata": {},
   "source": [
    "### Countries"
   ]
  },
  {
   "cell_type": "code",
   "execution_count": 28,
   "metadata": {},
   "outputs": [
    {
     "data": {
      "text/plain": [
       "Country/Territory\n",
       "Oman                        Western Asia\n",
       "Qatar                       Western Asia\n",
       "Saudi Arabia                Western Asia\n",
       "State of Palestine          Western Asia\n",
       "Syrian Arab Republic        Western Asia\n",
       "                              ...       \n",
       "Nicaragua                Central America\n",
       "Panama                   Central America\n",
       "Bermuda                 Northern America\n",
       "Canada                  Northern America\n",
       "Greenland               Northern America\n",
       "Name: Region, Length: 100, dtype: object"
      ]
     },
     "execution_count": 28,
     "metadata": {},
     "output_type": "execute_result"
    }
   ],
   "source": [
    "# Data Source from Statistics Times\n",
    "#df_countries = pd.read_html('http://statisticstimes.com/geography/countries-by-continents.php')\n",
    "\n",
    "# convert countries into regions\n",
    "#country_region = pd.concat([df_countries[i] for i in np.arange(2, 8)])\n",
    "\n",
    "# country_region.to_csv('country_region')\n",
    "country_region = pd.read_csv('country_region.csv', index_col='Country/Territory' )\n",
    "country_region['Region'][100:200]"
   ]
  },
  {
   "cell_type": "code",
   "execution_count": 29,
   "metadata": {},
   "outputs": [],
   "source": [
    "def region(country):\n",
    "    return country_region.loc[country]['Region']\n",
    "\n",
    "all_df['country'].fillna(value='None', inplace=True)\n",
    "all_df['country_region'] = all_df['country'].map(region)\n",
    "\n",
    "all_df['country'].replace({'None':np.nan}, inplace=True)\n",
    "all_df['country_region'].replace({'None':np.nan}, inplace=True)"
   ]
  },
  {
   "cell_type": "code",
   "execution_count": 30,
   "metadata": {},
   "outputs": [
    {
     "data": {
      "text/plain": [
       "Northern America             116852\n",
       "Southern Europe               61194\n",
       "Western Europe                42337\n",
       "South America                 19807\n",
       "Australia and New Zealand     11636\n",
       "Southern Africa                3530\n",
       "Western Asia                   1482\n",
       "Eastern Europe                 1023\n",
       "Central America                 133\n",
       "Northern Europe                  85\n",
       "Northern Africa                  40\n",
       "Southern Asia                    17\n",
       "Eastern Asia                     10\n",
       "Name: country_region, dtype: int64"
      ]
     },
     "execution_count": 30,
     "metadata": {},
     "output_type": "execute_result"
    }
   ],
   "source": [
    "all_df['country_region'].value_counts()"
   ]
  },
  {
   "cell_type": "code",
   "execution_count": 31,
   "metadata": {},
   "outputs": [],
   "source": [
    "price_per_region = all_df.groupby('country_region').mean()['price'].to_frame().reset_index()\n",
    "price_per_country = all_df.groupby('country').mean()['price'].to_frame().reset_index()"
   ]
  },
  {
   "cell_type": "code",
   "execution_count": 32,
   "metadata": {},
   "outputs": [
    {
     "data": {
      "text/plain": [
       "Text(0, 0.5, 'Price')"
      ]
     },
     "execution_count": 32,
     "metadata": {},
     "output_type": "execute_result"
    },
    {
     "data": {
      "image/png": "[encoded data removed]",
      "text/plain": [
       "<Figure size 1440x432 with 1 Axes>"
      ]
     },
     "metadata": {
      "needs_background": "light"
     },
     "output_type": "display_data"
    }
   ],
   "source": [
    "fig = plt.figure(figsize=(20,6))\n",
    "ax = fig.add_axes([0, 0, 1, 1])\n",
    "\n",
    "sns.barplot(\"country_region\", \"price\", data=price_per_region, ax=ax)\n",
    "\n",
    "ax.set_xlabel('Region')\n",
    "ax.set_ylabel('Price')\n"
   ]
  },
  {
   "cell_type": "markdown",
   "metadata": {},
   "source": [
    "Observation: On average, Northern europe and Western wines are more expensive"
   ]
  },
  {
   "cell_type": "markdown",
   "metadata": {},
   "source": [
    "### Tasters"
   ]
  },
  {
   "cell_type": "code",
   "execution_count": 33,
   "metadata": {
    "scrolled": true
   },
   "outputs": [
    {
     "data": {
      "text/plain": [
       "Text(0, 0.5, 'Ratings')"
      ]
     },
     "execution_count": 33,
     "metadata": {},
     "output_type": "execute_result"
    },
    {
     "data": {
      "image/png": "[encoded data removed]",
      "text/plain": [
       "<Figure size 1440x432 with 1 Axes>"
      ]
     },
     "metadata": {
      "needs_background": "light"
     },
     "output_type": "display_data"
    }
   ],
   "source": [
    "tasters = all_df.groupby('taster_name').mean()['ratings'].to_frame().reset_index()\n",
    "\n",
    "fig = plt.figure(figsize=(20,6))\n",
    "ax = fig.add_axes([0, 0, 1, 1])\n",
    "\n",
    "sns.barplot(\"taster_name\", \"ratings\", data=tasters, ax=ax)\n",
    "\n",
    "ax.set_xlabel('Tasters')\n",
    "ax.set_ylabel('Ratings')"
   ]
  },
  {
   "cell_type": "markdown",
   "metadata": {},
   "source": [
    "Observation: Not much bias in their ratings"
   ]
  },
  {
   "cell_type": "markdown",
   "metadata": {},
   "source": [
    "### Twitter Handle"
   ]
  },
  {
   "cell_type": "code",
   "execution_count": 34,
   "metadata": {},
   "outputs": [],
   "source": [
    "# Create column to check if user has twitter handle\n",
    "all_df['has_twit_handle'] = all_df['taster_twitter_handle'].notnull()\n",
    "\n",
    "# Convert bool to numeric\n",
    "all_df['has_twit_handle'] = all_df['has_twit_handle'].astype(int)"
   ]
  },
  {
   "cell_type": "code",
   "execution_count": 35,
   "metadata": {},
   "outputs": [],
   "source": [
    "# Drop twitter handle column\n",
    "del all_df[\"taster_twitter_handle\"]"
   ]
  },
  {
   "cell_type": "code",
   "execution_count": 36,
   "metadata": {},
   "outputs": [
    {
     "data": {
      "text/plain": [
       "0    0\n",
       "1    0\n",
       "2    0\n",
       "3    0\n",
       "4    1\n",
       "Name: has_twit_handle, dtype: int64"
      ]
     },
     "execution_count": 36,
     "metadata": {},
     "output_type": "execute_result"
    }
   ],
   "source": [
    "all_df['has_twit_handle'].head()"
   ]
  },
  {
   "cell_type": "markdown",
   "metadata": {},
   "source": [
    "### Title"
   ]
  },
  {
   "cell_type": "code",
   "execution_count": 37,
   "metadata": {},
   "outputs": [],
   "source": [
    "# Extract year from title\n",
    "all_df['title'].fillna(value='None', inplace=True)\n",
    "\n",
    "def extract_year(string):\n",
    "    if type(string) is str:\n",
    "        digit = [int(s) for s in string.split() if s.isdigit()]\n",
    "        if digit and len(str(digit[0])) == 4:\n",
    "            return digit[0]\n",
    "        else: return np.nan\n",
    "    return np.nan\n",
    "\n",
    "all_df['title_year'] = all_df['title'].apply(extract_year)\n",
    "all_df['title_year'] = all_df['title'].apply(extract_year)\n",
    "\n",
    "all_df['title'].replace({'None':np.nan}, inplace=True)"
   ]
  },
  {
   "cell_type": "code",
   "execution_count": 38,
   "metadata": {},
   "outputs": [
    {
     "data": {
      "text/plain": [
       "0       NaN\n",
       "1       NaN\n",
       "2       NaN\n",
       "3    2010.0\n",
       "4    2016.0\n",
       "Name: title_year, dtype: float64"
      ]
     },
     "execution_count": 38,
     "metadata": {},
     "output_type": "execute_result"
    }
   ],
   "source": [
    "all_df['title_year'].head()"
   ]
  },
  {
   "cell_type": "code",
   "execution_count": 39,
   "metadata": {},
   "outputs": [],
   "source": [
    "train_df = all_df[ :175000 ]\n",
    "test_df = all_df[175000: ]"
   ]
  },
  {
   "cell_type": "code",
   "execution_count": null,
   "metadata": {},
   "outputs": [],
   "source": []
  },
  {
   "cell_type": "code",
   "execution_count": 40,
   "metadata": {},
   "outputs": [],
   "source": [
    "# !pip install category_encoders\n",
    "import category_encoders as ce\n",
    "\n",
    "# https://towardsdatascience.com/all-about-categorical-variable-encoding-305f3361fd02\n",
    "encoder = ce.TargetEncoder(cols=['designation', 'province',\n",
    "        'region_1', 'region_2', 'taster_name', 'title',\n",
    "        'variety', 'winery', 'country', 'country_region', 'title_year'])\n",
    "encoder.fit(train_df, target_df)\n",
    "train_df_enc = encoder.transform(train_df)\n",
    "test_df_enc = encoder.transform(test_df)"
   ]
  },
  {
   "cell_type": "code",
   "execution_count": 41,
   "metadata": {},
   "outputs": [
    {
     "data": {
      "text/html": [
       "<div>\n",
       "<style scoped>\n",
       "    .dataframe tbody tr th:only-of-type {\n",
       "        vertical-align: middle;\n",
       "    }\n",
       "\n",
       "    .dataframe tbody tr th {\n",
       "        vertical-align: top;\n",
       "    }\n",
       "\n",
       "    .dataframe thead th {\n",
       "        text-align: right;\n",
       "    }\n",
       "</style>\n",
       "<table border=\"1\" class=\"dataframe\">\n",
       "  <thead>\n",
       "    <tr style=\"text-align: right;\">\n",
       "      <th></th>\n",
       "      <th>0</th>\n",
       "      <th>1</th>\n",
       "      <th>2</th>\n",
       "      <th>3</th>\n",
       "      <th>4</th>\n",
       "    </tr>\n",
       "  </thead>\n",
       "  <tbody>\n",
       "    <tr>\n",
       "      <th>country</th>\n",
       "      <td>26.0605</td>\n",
       "      <td>43.3673</td>\n",
       "      <td>43.3673</td>\n",
       "      <td>35.1531</td>\n",
       "      <td>35.1531</td>\n",
       "    </tr>\n",
       "    <tr>\n",
       "      <th>description</th>\n",
       "      <td>This is a fine rich balanced wine. It has ripe...</td>\n",
       "      <td>A solid, chunky wine, with a structure that is...</td>\n",
       "      <td>This is powerful and concentrated, with the hi...</td>\n",
       "      <td>Rich, ripe and oaky, this Petite Sirah charms ...</td>\n",
       "      <td>This wine is a unique in the state blend and f...</td>\n",
       "    </tr>\n",
       "    <tr>\n",
       "      <th>designation</th>\n",
       "      <td>20.0354</td>\n",
       "      <td>28.6454</td>\n",
       "      <td>28.6454</td>\n",
       "      <td>36.6122</td>\n",
       "      <td>28.7273</td>\n",
       "    </tr>\n",
       "    <tr>\n",
       "      <th>points</th>\n",
       "      <td>88.8709</td>\n",
       "      <td>88.0417</td>\n",
       "      <td>94.085</td>\n",
       "      <td>89.8698</td>\n",
       "      <td>89.0177</td>\n",
       "    </tr>\n",
       "    <tr>\n",
       "      <th>price</th>\n",
       "      <td>20</td>\n",
       "      <td>28</td>\n",
       "      <td>130</td>\n",
       "      <td>34</td>\n",
       "      <td>24</td>\n",
       "    </tr>\n",
       "    <tr>\n",
       "      <th>province</th>\n",
       "      <td>22.4616</td>\n",
       "      <td>40.652</td>\n",
       "      <td>40.652</td>\n",
       "      <td>37.2681</td>\n",
       "      <td>30.9779</td>\n",
       "    </tr>\n",
       "    <tr>\n",
       "      <th>region_1</th>\n",
       "      <td>25.6488</td>\n",
       "      <td>32.2576</td>\n",
       "      <td>67.7313</td>\n",
       "      <td>29.604</td>\n",
       "      <td>31.3036</td>\n",
       "    </tr>\n",
       "    <tr>\n",
       "      <th>region_2</th>\n",
       "      <td>33.4931</td>\n",
       "      <td>33.4931</td>\n",
       "      <td>33.4931</td>\n",
       "      <td>33.6418</td>\n",
       "      <td>31.3066</td>\n",
       "    </tr>\n",
       "    <tr>\n",
       "      <th>taster_name</th>\n",
       "      <td>33.8917</td>\n",
       "      <td>33.8917</td>\n",
       "      <td>33.8917</td>\n",
       "      <td>33.8917</td>\n",
       "      <td>34.2159</td>\n",
       "    </tr>\n",
       "    <tr>\n",
       "      <th>title</th>\n",
       "      <td>33.3159</td>\n",
       "      <td>33.3159</td>\n",
       "      <td>33.3159</td>\n",
       "      <td>34.3044</td>\n",
       "      <td>26.7713</td>\n",
       "    </tr>\n",
       "    <tr>\n",
       "      <th>variety</th>\n",
       "      <td>24.2853</td>\n",
       "      <td>48.4088</td>\n",
       "      <td>48.4088</td>\n",
       "      <td>30.2873</td>\n",
       "      <td>18.2635</td>\n",
       "    </tr>\n",
       "    <tr>\n",
       "      <th>winery</th>\n",
       "      <td>18.9697</td>\n",
       "      <td>29.6955</td>\n",
       "      <td>134.326</td>\n",
       "      <td>38.2941</td>\n",
       "      <td>28.4574</td>\n",
       "    </tr>\n",
       "    <tr>\n",
       "      <th>ratings</th>\n",
       "      <td>3</td>\n",
       "      <td>3</td>\n",
       "      <td>5</td>\n",
       "      <td>3</td>\n",
       "      <td>3</td>\n",
       "    </tr>\n",
       "    <tr>\n",
       "      <th>country_region</th>\n",
       "      <td>33.7705</td>\n",
       "      <td>41.566</td>\n",
       "      <td>41.566</td>\n",
       "      <td>35.153</td>\n",
       "      <td>35.153</td>\n",
       "    </tr>\n",
       "    <tr>\n",
       "      <th>has_twit_handle</th>\n",
       "      <td>0</td>\n",
       "      <td>0</td>\n",
       "      <td>0</td>\n",
       "      <td>0</td>\n",
       "      <td>1</td>\n",
       "    </tr>\n",
       "    <tr>\n",
       "      <th>title_year</th>\n",
       "      <td>33.2291</td>\n",
       "      <td>33.2291</td>\n",
       "      <td>33.2291</td>\n",
       "      <td>37.3652</td>\n",
       "      <td>18.4434</td>\n",
       "    </tr>\n",
       "  </tbody>\n",
       "</table>\n",
       "</div>"
      ],
      "text/plain": [
       "                                                                 0  \\\n",
       "country                                                    26.0605   \n",
       "description      This is a fine rich balanced wine. It has ripe...   \n",
       "designation                                                20.0354   \n",
       "points                                                     88.8709   \n",
       "price                                                           20   \n",
       "province                                                   22.4616   \n",
       "region_1                                                   25.6488   \n",
       "region_2                                                   33.4931   \n",
       "taster_name                                                33.8917   \n",
       "title                                                      33.3159   \n",
       "variety                                                    24.2853   \n",
       "winery                                                     18.9697   \n",
       "ratings                                                          3   \n",
       "country_region                                             33.7705   \n",
       "has_twit_handle                                                  0   \n",
       "title_year                                                 33.2291   \n",
       "\n",
       "                                                                 1  \\\n",
       "country                                                    43.3673   \n",
       "description      A solid, chunky wine, with a structure that is...   \n",
       "designation                                                28.6454   \n",
       "points                                                     88.0417   \n",
       "price                                                           28   \n",
       "province                                                    40.652   \n",
       "region_1                                                   32.2576   \n",
       "region_2                                                   33.4931   \n",
       "taster_name                                                33.8917   \n",
       "title                                                      33.3159   \n",
       "variety                                                    48.4088   \n",
       "winery                                                     29.6955   \n",
       "ratings                                                          3   \n",
       "country_region                                              41.566   \n",
       "has_twit_handle                                                  0   \n",
       "title_year                                                 33.2291   \n",
       "\n",
       "                                                                 2  \\\n",
       "country                                                    43.3673   \n",
       "description      This is powerful and concentrated, with the hi...   \n",
       "designation                                                28.6454   \n",
       "points                                                      94.085   \n",
       "price                                                          130   \n",
       "province                                                    40.652   \n",
       "region_1                                                   67.7313   \n",
       "region_2                                                   33.4931   \n",
       "taster_name                                                33.8917   \n",
       "title                                                      33.3159   \n",
       "variety                                                    48.4088   \n",
       "winery                                                     134.326   \n",
       "ratings                                                          5   \n",
       "country_region                                              41.566   \n",
       "has_twit_handle                                                  0   \n",
       "title_year                                                 33.2291   \n",
       "\n",
       "                                                                 3  \\\n",
       "country                                                    35.1531   \n",
       "description      Rich, ripe and oaky, this Petite Sirah charms ...   \n",
       "designation                                                36.6122   \n",
       "points                                                     89.8698   \n",
       "price                                                           34   \n",
       "province                                                   37.2681   \n",
       "region_1                                                    29.604   \n",
       "region_2                                                   33.6418   \n",
       "taster_name                                                33.8917   \n",
       "title                                                      34.3044   \n",
       "variety                                                    30.2873   \n",
       "winery                                                     38.2941   \n",
       "ratings                                                          3   \n",
       "country_region                                              35.153   \n",
       "has_twit_handle                                                  0   \n",
       "title_year                                                 37.3652   \n",
       "\n",
       "                                                                 4  \n",
       "country                                                    35.1531  \n",
       "description      This wine is a unique in the state blend and f...  \n",
       "designation                                                28.7273  \n",
       "points                                                     89.0177  \n",
       "price                                                           24  \n",
       "province                                                   30.9779  \n",
       "region_1                                                   31.3036  \n",
       "region_2                                                   31.3066  \n",
       "taster_name                                                34.2159  \n",
       "title                                                      26.7713  \n",
       "variety                                                    18.2635  \n",
       "winery                                                     28.4574  \n",
       "ratings                                                          3  \n",
       "country_region                                              35.153  \n",
       "has_twit_handle                                                  1  \n",
       "title_year                                                 18.4434  "
      ]
     },
     "execution_count": 41,
     "metadata": {},
     "output_type": "execute_result"
    }
   ],
   "source": [
    "train_df_enc.head().T"
   ]
  },
  {
   "cell_type": "code",
   "execution_count": 42,
   "metadata": {},
   "outputs": [
    {
     "data": {
      "text/plain": [
       "<matplotlib.axes._subplots.AxesSubplot at 0x7fc8f35c3198>"
      ]
     },
     "execution_count": 42,
     "metadata": {},
     "output_type": "execute_result"
    },
    {
     "data": {
      "image/png": "[encoded data removed]",
      "text/plain": [
       "<Figure size 432x288 with 2 Axes>"
      ]
     },
     "metadata": {
      "needs_background": "light"
     },
     "output_type": "display_data"
    }
   ],
   "source": [
    "sns.heatmap(train_df_enc.corr())"
   ]
  },
  {
   "cell_type": "code",
   "execution_count": 43,
   "metadata": {},
   "outputs": [],
   "source": [
    "all_df = pd.concat([train_df_enc, test_df_enc]).reset_index(drop=True)"
   ]
  },
  {
   "cell_type": "code",
   "execution_count": 44,
   "metadata": {},
   "outputs": [
    {
     "data": {
      "text/plain": [
       "(258210, 16)"
      ]
     },
     "execution_count": 44,
     "metadata": {},
     "output_type": "execute_result"
    }
   ],
   "source": [
    "all_df.shape"
   ]
  },
  {
   "cell_type": "code",
   "execution_count": 45,
   "metadata": {},
   "outputs": [],
   "source": [
    "# Find number of words in each description. Naive\n",
    "all_df['n_words'] = all_df['description'].apply(lambda x: len(x.split()))\n",
    "all_df['n_chars'] = all_df['description'].apply(lambda x: len(x))"
   ]
  },
  {
   "cell_type": "markdown",
   "metadata": {},
   "source": [
    "### Create Polynomial Interactions"
   ]
  },
  {
   "cell_type": "code",
   "execution_count": 46,
   "metadata": {},
   "outputs": [],
   "source": [
    "all_df_num = ['designation', 'points', 'province', 'region_1', 'region_2',\n",
    "       'taster_name', 'title', 'variety', 'winery', 'ratings',\n",
    "       'country_region', 'has_twit_handle', 'title_year', 'n_words',\n",
    "       'n_chars']"
   ]
  },
  {
   "cell_type": "code",
   "execution_count": 47,
   "metadata": {},
   "outputs": [],
   "source": [
    "# Create feature interactions among numerical variables\n",
    "num_col_len = len(all_df_num)\n",
    "for i in range(num_col_len-1):\n",
    "    col1 = all_df_num[i]\n",
    "    for j in range(i+1, num_col_len):\n",
    "        col2 = all_df_num[j]\n",
    "        all_df[f\"{col1}_{col2}\"] = all_df[col1]*all_df[col2]"
   ]
  },
  {
   "cell_type": "code",
   "execution_count": 48,
   "metadata": {},
   "outputs": [
    {
     "data": {
      "text/plain": [
       "Index(['country', 'description', 'designation', 'points', 'price', 'province',\n",
       "       'region_1', 'region_2', 'taster_name', 'title',\n",
       "       ...\n",
       "       'country_region_has_twit_handle', 'country_region_title_year',\n",
       "       'country_region_n_words', 'country_region_n_chars',\n",
       "       'has_twit_handle_title_year', 'has_twit_handle_n_words',\n",
       "       'has_twit_handle_n_chars', 'title_year_n_words', 'title_year_n_chars',\n",
       "       'n_words_n_chars'],\n",
       "      dtype='object', length=123)"
      ]
     },
     "execution_count": 48,
     "metadata": {},
     "output_type": "execute_result"
    }
   ],
   "source": [
    "all_df.columns"
   ]
  },
  {
   "cell_type": "markdown",
   "metadata": {},
   "source": [
    "### Description"
   ]
  },
  {
   "cell_type": "code",
   "execution_count": 49,
   "metadata": {},
   "outputs": [],
   "source": [
    "from sklearn.feature_extraction import text"
   ]
  },
  {
   "cell_type": "code",
   "execution_count": 50,
   "metadata": {},
   "outputs": [
    {
     "data": {
      "text/plain": [
       "0    This is a fine rich balanced wine. It has ripe...\n",
       "1    A solid, chunky wine, with a structure that is...\n",
       "2    This is powerful and concentrated, with the hi...\n",
       "3    Rich, ripe and oaky, this Petite Sirah charms ...\n",
       "4    This wine is a unique in the state blend and f...\n",
       "Name: description, dtype: object"
      ]
     },
     "execution_count": 50,
     "metadata": {},
     "output_type": "execute_result"
    }
   ],
   "source": [
    "all_df['description'].head()"
   ]
  },
  {
   "cell_type": "code",
   "execution_count": 51,
   "metadata": {},
   "outputs": [],
   "source": [
    "# Find most frequently occuring words and their count or percentage\n",
    "from nltk.tokenize.treebank import TreebankWordDetokenizer\n",
    "from nltk.corpus import stopwords\n",
    "from nltk import word_tokenize\n",
    "\n",
    "# set seaborn style \n",
    "sns.set(style=\"whitegrid\")\n",
    "\n",
    "stopwords = set(stopwords.words('english'))\n",
    "# Detokenizer combines tokenized elements\n",
    "detokenizer = TreebankWordDetokenizer()"
   ]
  },
  {
   "cell_type": "code",
   "execution_count": 52,
   "metadata": {},
   "outputs": [
    {
     "data": {
      "image/png": "[encoded data removed]",
      "text/plain": [
       "<Figure size 432x288 with 1 Axes>"
      ]
     },
     "metadata": {},
     "output_type": "display_data"
    },
    {
     "data": {
      "text/plain": [
       "<wordcloud.wordcloud.WordCloud at 0x7fc8e9e532b0>"
      ]
     },
     "execution_count": 52,
     "metadata": {},
     "output_type": "execute_result"
    }
   ],
   "source": [
    "# Word cloud\n",
    "from os import path\n",
    "from PIL import Image\n",
    "from wordcloud import WordCloud, STOPWORDS, ImageColorGenerator\n",
    "\n",
    "text = \" \".join(desc for desc in all_df.description)\n",
    "\n",
    "# Create and generate a word cloud image:\n",
    "wordcloud = WordCloud(max_font_size=150, \n",
    "                      max_words=100, \n",
    "                      background_color=\"white\",\n",
    "                      stopwords=stopwords\n",
    "                     ).generate(text)\n",
    "\n",
    "# Display the generated image:\n",
    "plt.imshow(wordcloud, interpolation='bilinear', )\n",
    "plt.axis(\"off\")\n",
    "plt.show()\n",
    "\n",
    "# Save the image in the img folder:\n",
    "wordcloud.to_file(\"first_review.png\", )"
   ]
  },
  {
   "cell_type": "code",
   "execution_count": 53,
   "metadata": {},
   "outputs": [
    {
     "data": {
      "text/plain": [
       "Text(0.5, 1.0, '% Occurrence of Most Frequent Words')"
      ]
     },
     "execution_count": 53,
     "metadata": {},
     "output_type": "execute_result"
    },
    {
     "data": {
      "image/png": "[encoded data removed]",
      "text/plain": [
       "<Figure size 432x288 with 1 Axes>"
      ]
     },
     "metadata": {},
     "output_type": "display_data"
    }
   ],
   "source": [
    "def clean_description(desc):\n",
    "    desc = word_tokenize(desc.lower())\n",
    "    desc = [token for token in desc if token not in stopwords and token.isalpha()]\n",
    "    return detokenizer.detokenize(desc)\n",
    "\n",
    "cleaned_description = all_df[\"description\"].apply(clean_description)\n",
    "\n",
    "word_occurrence = cleaned_description.str.split(expand=True).stack().value_counts()\n",
    "\n",
    "total_words = sum(word_occurrence)\n",
    "\n",
    "# plot most common words \n",
    "\n",
    "top_words = word_occurrence[:20]/total_words\n",
    "\n",
    "ax = sns.barplot(x = top_words.values, y = top_words.index)\n",
    "\n",
    "# Setting title \n",
    "ax.set_title(\"% Occurrence of Most Frequent Words\")"
   ]
  },
  {
   "cell_type": "markdown",
   "metadata": {},
   "source": [
    "Observation: Wine and flavors are the most occuring words in the corpus of description"
   ]
  },
  {
   "cell_type": "code",
   "execution_count": 54,
   "metadata": {},
   "outputs": [],
   "source": [
    "import string\n",
    "from nltk.tokenize import sent_tokenize, word_tokenize\n",
    "def tokenize(text):\n",
    "    \"\"\"\n",
    "    sent_tokenize(): segment text into sentences\n",
    "    word_tokenize(): break sentences into words\n",
    "    \"\"\"\n",
    "    try: \n",
    "        regex = re.compile('[' +re.escape(string.punctuation) + '0-9\\\\r\\\\t\\\\n]')\n",
    "        text = regex.sub(\" \", text) # remove punctuation\n",
    "        \n",
    "        tokens_ = [word_tokenize(s) for s in sent_tokenize(text)]\n",
    "        tokens = []\n",
    "        for token_by_sent in tokens_:\n",
    "            tokens += token_by_sent\n",
    "        tokens = list(filter(lambda t: t.lower() not in stopwords, tokens))\n",
    "        filtered_tokens = [w for w in tokens if re.search('[a-zA-Z]', w)]\n",
    "        filtered_tokens = [w.lower() for w in filtered_tokens if len(w)>=3]\n",
    "        \n",
    "        return filtered_tokens\n",
    "            \n",
    "    except TypeError as e: print(text,e)"
   ]
  },
  {
   "cell_type": "markdown",
   "metadata": {},
   "source": [
    "TD-idf"
   ]
  },
  {
   "cell_type": "code",
   "execution_count": 55,
   "metadata": {},
   "outputs": [
    {
     "data": {
      "text/plain": [
       "500"
      ]
     },
     "execution_count": 55,
     "metadata": {},
     "output_type": "execute_result"
    }
   ],
   "source": [
    "# Convert text to bag of words\n",
    "from sklearn.feature_extraction import text\n",
    "bow_transform = text.CountVectorizer(stop_words=stopwords, \n",
    "                                     max_df=0.8, \n",
    "                                     min_df=7, \n",
    "                                     max_features=500,\n",
    "                                     tokenizer=tokenize,\n",
    "                                     ngram_range=(1, 2)\n",
    "                                    )\n",
    "all_desc = np.append(train_df['description'].values, test_df['description'].values)\n",
    "all_bow = bow_transform.fit_transform(all_desc)\n",
    "len(bow_transform.vocabulary_)"
   ]
  },
  {
   "cell_type": "code",
   "execution_count": 56,
   "metadata": {},
   "outputs": [
    {
     "name": "stdout",
     "output_type": "stream",
     "text": [
      "Total extracted words: (258210, 500)\n"
     ]
    }
   ],
   "source": [
    "print(\"Total extracted words:\", all_bow.shape)"
   ]
  },
  {
   "cell_type": "code",
   "execution_count": 57,
   "metadata": {},
   "outputs": [],
   "source": [
    "tfidf_trfm = text.TfidfTransformer()\n",
    "tfidf = tfidf_trfm.fit_transform(all_bow)"
   ]
  },
  {
   "cell_type": "code",
   "execution_count": 58,
   "metadata": {},
   "outputs": [
    {
     "name": "stdout",
     "output_type": "stream",
     "text": [
      "1st 10 Extracted words: ['accented', 'accents', 'acid', 'acidic', 'acidity', 'acids', 'add', 'adds', 'aftertaste', 'age']\n"
     ]
    }
   ],
   "source": [
    "new_cols = bow_transform.get_feature_names()\n",
    "print(\"1st 10 Extracted words:\", new_cols[0:10])"
   ]
  },
  {
   "cell_type": "markdown",
   "metadata": {},
   "source": [
    "Observation: These are very common words in wine parlance so they are generic in the domain"
   ]
  },
  {
   "cell_type": "code",
   "execution_count": 59,
   "metadata": {},
   "outputs": [],
   "source": [
    "df_desc = pd.DataFrame(tfidf.toarray(), columns=new_cols)"
   ]
  },
  {
   "cell_type": "code",
   "execution_count": 60,
   "metadata": {},
   "outputs": [
    {
     "data": {
      "text/plain": [
       "(258210, 500)"
      ]
     },
     "execution_count": 60,
     "metadata": {},
     "output_type": "execute_result"
    }
   ],
   "source": [
    "df_desc.shape"
   ]
  },
  {
   "cell_type": "code",
   "execution_count": 61,
   "metadata": {},
   "outputs": [
    {
     "data": {
      "text/plain": [
       "((175000, 621), (83210, 621))"
      ]
     },
     "execution_count": 61,
     "metadata": {},
     "output_type": "execute_result"
    }
   ],
   "source": [
    "del all_df['price']\n",
    "del all_df['description']\n",
    "\n",
    "# Rename some columns cos of conflict with  words columns\n",
    "all_df.rename(columns = {\"winery\": \"winery_col\", \n",
    "                     \"variety\":\"variety_col\"}, \n",
    "                                 inplace = True)\n",
    "\n",
    "# Split into train and test\n",
    "train_df_desc = pd.DataFrame(tfidf[0:175000].toarray(), columns=new_cols)\n",
    "test_df_desc = pd.DataFrame(tfidf[175000: ].toarray(), columns=new_cols)\n",
    "\n",
    "\n",
    "train_df = all_df[ :175000 ]\n",
    "test_df = all_df[175000: ]\n",
    "\n",
    "# Combine dataframe\n",
    "train_df = train_df.join(train_df_desc)\n",
    "test_df = test_df.join(test_df_desc)\n",
    "\n",
    "train_df.shape, test_df.shape"
   ]
  },
  {
   "cell_type": "code",
   "execution_count": 62,
   "metadata": {},
   "outputs": [],
   "source": [
    "# Save data from model\n",
    "# Saving to pickle file  \n",
    "#train_df_concat.to_pickle(\"tf_data/train_df.pkl\")\n",
    "#test_df_concat.to_pickle(\"tf_data/test_df.pkl\")\n",
    "#target_df.to_pickle(\"tf_data/target_df.pkl\")"
   ]
  },
  {
   "cell_type": "code",
   "execution_count": 63,
   "metadata": {},
   "outputs": [],
   "source": [
    "# To unpiclke\n",
    "# train_df = pd.read_pickle(\"data/train_df.pkl\")\n",
    "# test_df = pd.read_pickle(\"data/test_df.pkl\")\n",
    "# target_df = pd.read_pickle(\"data/target_df.pkl\")"
   ]
  },
  {
   "cell_type": "markdown",
   "metadata": {},
   "source": [
    "### Modelling"
   ]
  },
  {
   "cell_type": "markdown",
   "metadata": {},
   "source": [
    "### XGBoost"
   ]
  },
  {
   "cell_type": "code",
   "execution_count": 64,
   "metadata": {},
   "outputs": [],
   "source": [
    "#Import libraries:\n",
    "import xgboost as xgb\n",
    "from xgboost.sklearn import XGBRegressor\n",
    "from sklearn.model_selection import cross_val_score, GridSearchCV #Perforing grid search\n",
    "from sklearn import metrics   #metrics\n",
    "\n",
    "import matplotlib.pylab as plt\n",
    "%matplotlib inline\n",
    "from matplotlib.pylab import rcParams\n",
    "rcParams['figure.figsize'] = 20, 10\n",
    "\n",
    "SEED = 27\n",
    "X = train_df.copy()\n",
    "test_X = test_df.copy()\n",
    "y = target_df\n",
    "predictors = train_df.columns"
   ]
  },
  {
   "cell_type": "code",
   "execution_count": 65,
   "metadata": {},
   "outputs": [],
   "source": [
    "def modelfit(alg, predictors, X_train=X, y_train=y, useTrainCV=True, cv_folds=5, early_stopping_rounds=50):\n",
    "\n",
    "    if useTrainCV:\n",
    "        xgb_param = alg.get_xgb_params()\n",
    "        xgtrain = xgb.DMatrix(X_train.values, label=y_train.values)\n",
    "        cvresult = xgb.cv(xgb_param, xgtrain, num_boost_round=alg.get_params()['n_estimators'], nfold=cv_folds,\n",
    "                          metrics='rmse', early_stopping_rounds=early_stopping_rounds, verbose_eval=False)\n",
    "        alg.set_params(n_estimators=cvresult.shape[0])\n",
    "        \n",
    "        print(\"n_estimators: \", cvresult.shape[0])\n",
    "    # Fit the algorithm on the data\n",
    "    alg.fit(X_train, y_train, eval_metric='rmse')\n",
    "\n",
    "    # Predict training set:\n",
    "    Xtrain_predictions = alg.predict(X_train)\n",
    "    \n",
    "    # Print model report:\n",
    "    print(\"\\nModel Report\")\n",
    "    print(\"R2 Score : %.4g\" % metrics.r2_score(\n",
    "                                                y_train.values, Xtrain_predictions))\n",
    "    rmse = 2*np.sqrt(metrics.mean_squared_error(y_train, Xtrain_predictions))\n",
    "    print(\"RMSE Score (Train): %f\" % rmse)\n",
    "    \n",
    "    print(cvresult.tail())\n",
    "    \n",
    "    xgb.plot_importance(alg, max_num_features=20, height=0.8)"
   ]
  },
  {
   "cell_type": "markdown",
   "metadata": {},
   "source": [
    "**Base Mode**"
   ]
  },
  {
   "cell_type": "code",
   "execution_count": 66,
   "metadata": {},
   "outputs": [
    {
     "name": "stdout",
     "output_type": "stream",
     "text": [
      "n_estimators:  144\n",
      "\n",
      "Model Report\n",
      "R2 Score : 0.9625\n",
      "RMSE Score (Train): 14.867174\n",
      "     train-rmse-mean  train-rmse-std  test-rmse-mean  test-rmse-std\n",
      "139         7.174341        0.123135       16.149332       2.447838\n",
      "140         7.154867        0.129320       16.145970       2.447022\n",
      "141         7.144521        0.129031       16.144515       2.447590\n",
      "142         7.133233        0.132083       16.142841       2.447342\n",
      "143         7.112941        0.132951       16.139673       2.449082\n"
     ]
    },
    {
     "data": {
      "image/png": "[encoded data removed]",
      "text/plain": [
       "<Figure size 1440x720 with 1 Axes>"
      ]
     },
     "metadata": {
      "needs_background": "light"
     },
     "output_type": "display_data"
    }
   ],
   "source": [
    "xgb0 = XGBRegressor(\n",
    "    learning_rate=0.2,\n",
    "    n_estimators=144,\n",
    "    max_depth=9,\n",
    "    min_child_weight=3,\n",
    "    gamma=0,\n",
    "    subsample=0.8,\n",
    "    colsample_bytree=0.8,\n",
    "    objective='reg:squarederror',\n",
    "    early_stopping_rounds=10,\n",
    "    eval_metric= 'rmse',\n",
    "    n_jobs=-1,\n",
    "    scale_pos_weight=1,\n",
    "    silent=True,\n",
    "    seed=SEED)\n",
    "modelfit(xgb0, predictors=predictors)"
   ]
  },
  {
   "cell_type": "markdown",
   "metadata": {},
   "source": [
    "Observation: Best predictors are designation, points and combinations of them."
   ]
  },
  {
   "cell_type": "code",
   "execution_count": 67,
   "metadata": {},
   "outputs": [],
   "source": [
    "from sklearn.model_selection import train_test_split\n",
    "X_train, X_val, y_train, y_val = train_test_split(X, y, test_size=0.2, random_state=42)"
   ]
  },
  {
   "cell_type": "code",
   "execution_count": 68,
   "metadata": {},
   "outputs": [
    {
     "data": {
      "text/plain": [
       "pandas.core.series.Series"
      ]
     },
     "execution_count": 68,
     "metadata": {},
     "output_type": "execute_result"
    }
   ],
   "source": [
    "type(y_val)"
   ]
  },
  {
   "cell_type": "code",
   "execution_count": 69,
   "metadata": {},
   "outputs": [
    {
     "data": {
      "text/plain": [
       "((140000, 621), (140000, 1))"
      ]
     },
     "execution_count": 69,
     "metadata": {},
     "output_type": "execute_result"
    }
   ],
   "source": [
    "X_train.shape, y_train.values.reshape(-1,1).shape"
   ]
  },
  {
   "cell_type": "code",
   "execution_count": 70,
   "metadata": {},
   "outputs": [
    {
     "name": "stdout",
     "output_type": "stream",
     "text": [
      "[0]\tvalidation_0-rmse:40.4268\n",
      "Will train until validation_0-rmse hasn't improved in 10 rounds.\n",
      "[1]\tvalidation_0-rmse:33.8925\n",
      "[2]\tvalidation_0-rmse:28.9471\n",
      "[3]\tvalidation_0-rmse:25.1615\n",
      "[4]\tvalidation_0-rmse:22.2996\n",
      "[5]\tvalidation_0-rmse:20.2613\n",
      "[6]\tvalidation_0-rmse:18.5048\n",
      "[7]\tvalidation_0-rmse:17.3545\n",
      "[8]\tvalidation_0-rmse:16.446\n",
      "[9]\tvalidation_0-rmse:15.9132\n",
      "[10]\tvalidation_0-rmse:15.5215\n",
      "[11]\tvalidation_0-rmse:15.1952\n",
      "[12]\tvalidation_0-rmse:15.0409\n",
      "[13]\tvalidation_0-rmse:14.8715\n",
      "[14]\tvalidation_0-rmse:14.7306\n",
      "[15]\tvalidation_0-rmse:14.7074\n",
      "[16]\tvalidation_0-rmse:14.7598\n",
      "[17]\tvalidation_0-rmse:14.7227\n",
      "[18]\tvalidation_0-rmse:14.7217\n",
      "[19]\tvalidation_0-rmse:14.7019\n",
      "[20]\tvalidation_0-rmse:14.7214\n",
      "[21]\tvalidation_0-rmse:14.7155\n",
      "[22]\tvalidation_0-rmse:14.7432\n",
      "[23]\tvalidation_0-rmse:14.8043\n",
      "[24]\tvalidation_0-rmse:14.8404\n",
      "[25]\tvalidation_0-rmse:14.8931\n",
      "[26]\tvalidation_0-rmse:14.9011\n",
      "[27]\tvalidation_0-rmse:14.9104\n",
      "[28]\tvalidation_0-rmse:14.9797\n",
      "[29]\tvalidation_0-rmse:14.9586\n",
      "Stopping. Best iteration:\n",
      "[19]\tvalidation_0-rmse:14.7019\n",
      "\n"
     ]
    },
    {
     "data": {
      "text/plain": [
       "XGBRegressor(base_score=0.5, booster='gbtree', colsample_bylevel=1,\n",
       "       colsample_bynode=1, colsample_bytree=0.7, gamma=0,\n",
       "       importance_type='gain', learning_rate=0.2, max_delta_step=0,\n",
       "       max_depth=9, min_child_weight=3, missing=None, n_estimators=144,\n",
       "       n_jobs=-1, nthread=None, objective='reg:linear', random_state=0,\n",
       "       reg_alpha=0, reg_lambda=1, scale_pos_weight=1, seed=27, silent=True,\n",
       "       subsample=0.8, verbosity=1)"
      ]
     },
     "execution_count": 70,
     "metadata": {},
     "output_type": "execute_result"
    }
   ],
   "source": [
    "xgb1 = XGBRegressor(\n",
    "    learning_rate=0.2,\n",
    "    n_estimators=144,\n",
    "    max_depth=9,\n",
    "    min_child_weight=3,\n",
    "    gamma=0,\n",
    "    subsample=0.8,\n",
    "    colsample_bytree=0.7,\n",
    "    objective='reg:squarederror',\n",
    "    n_jobs=-1,\n",
    "    scale_pos_weight=1,\n",
    "    silent=True,\n",
    "    seed=SEED)\n",
    "eval_set = [(X_val, y_val)]\n",
    "xgb1.fit(X_train, y_train, eval_metric=\"rmse\", eval_set=eval_set, early_stopping_rounds=10, verbose=True)"
   ]
  },
  {
   "cell_type": "code",
   "execution_count": null,
   "metadata": {},
   "outputs": [],
   "source": []
  },
  {
   "cell_type": "code",
   "execution_count": 71,
   "metadata": {},
   "outputs": [
    {
     "name": "stdout",
     "output_type": "stream",
     "text": [
      "[82.97932  44.66226  48.15766  ... 40.190815 26.222685 32.95784 ]\n"
     ]
    }
   ],
   "source": [
    "test_label = xgb1.predict(test_X, ntree_limit=xgb1.best_iteration)\n",
    "print(test_label)"
   ]
  },
  {
   "cell_type": "code",
   "execution_count": 72,
   "metadata": {},
   "outputs": [],
   "source": [
    "# Small script to generate submission file\n",
    "import random\n",
    "def submit(test_label, test_df, file=\"submission_.csv\"):\n",
    "    test_price = test_label\n",
    "    print(\"Fist 10 predictions:\", test_price[:10])\n",
    "\n",
    "    test_id = test_df.index\n",
    "    data = {'id': test_id,\n",
    "    'price': test_price\n",
    "           }\n",
    "\n",
    "    frame = pd.DataFrame(data)\n",
    "    path = f'submissions/{file}'\n",
    "    print(\"\\nSaved path :\", path)\n",
    "    frame.to_csv(path, index = False)"
   ]
  },
  {
   "cell_type": "code",
   "execution_count": null,
   "metadata": {},
   "outputs": [],
   "source": []
  },
  {
   "cell_type": "code",
   "execution_count": null,
   "metadata": {},
   "outputs": [],
   "source": []
  },
  {
   "cell_type": "markdown",
   "metadata": {},
   "source": [
    "### Thank You  \n",
    "### Merci"
   ]
  },
  {
   "cell_type": "code",
   "execution_count": null,
   "metadata": {},
   "outputs": [],
   "source": []
  }
 ],
 "metadata": {
  "kernelspec": {
   "display_name": "Python 3",
   "language": "python",
   "name": "python3"
  },
  "language_info": {
   "codemirror_mode": {
    "name": "ipython",
    "version": 3
   },
   "file_extension": ".py",
   "mimetype": "text/x-python",
   "name": "python",
   "nbconvert_exporter": "python",
   "pygments_lexer": "ipython3",
   "version": "3.7.3"
  }
 },
 "nbformat": 4,
 "nbformat_minor": 4
}
