{
 "cells": [
  {
   "cell_type": "markdown",
   "metadata": {},
   "source": [
    "# Bottle of Wine Price Prediction by Group 12"
   ]
  },
  {
   "cell_type": "markdown",
   "metadata": {},
   "source": [
    "Description: Let's try to predict the price of a bottle of wine based on a collection of over one hundred thousand reviews and other product features.\n",
    "\n",
    "Evaluation: Root Mean Squared Error (RMSE).  \n",
    "RMSE = sqrt (mean ((predicted-true) ^ 2))"
   ]
  },
  {
   "cell_type": "code",
   "execution_count": 1,
   "metadata": {},
   "outputs": [],
   "source": [
    "import pandas as pd\n",
    "import numpy as np\n",
    "import matplotlib.pyplot as plt\n",
    "import seaborn as sns\n",
    "\n",
    "# show all columns\n",
    "pd.set_option('display.max_columns', None)\n",
    "\n",
    "%matplotlib inline\n",
    "\n",
    "# Ignore warnings\n",
    "import warnings\n",
    "warnings.filterwarnings(\"ignore\")"
   ]
  },
  {
   "cell_type": "code",
   "execution_count": 2,
   "metadata": {},
   "outputs": [],
   "source": [
    "# Define scoring metric\n",
    "def rmse_score(y_actual, y_predicted):\n",
    "    return np.sqrt(np.mean(np.square(y_actual - y_predicted)))"
   ]
  },
  {
   "cell_type": "code",
   "execution_count": 3,
   "metadata": {},
   "outputs": [],
   "source": [
    "# import train and test data.\n",
    "train_df = pd.read_csv(\"train.csv\")\n",
    "test_df = pd.read_csv(\"test.csv\", index_col='id')"
   ]
  },
  {
   "cell_type": "code",
   "execution_count": 4,
   "metadata": {},
   "outputs": [
    {
     "data": {
      "text/plain": [
       "(Index(['country', 'description', 'designation', 'points', 'price', 'province',\n",
       "        'region_1', 'region_2', 'taster_name', 'taster_twitter_handle', 'title',\n",
       "        'variety', 'winery', 'id'],\n",
       "       dtype='object'),\n",
       " Index(['index', 'country', 'description', 'designation', 'points', 'price',\n",
       "        'province', 'region_1', 'region_2', 'taster_name',\n",
       "        'taster_twitter_handle', 'title', 'variety', 'winery'],\n",
       "       dtype='object'))"
      ]
     },
     "execution_count": 4,
     "metadata": {},
     "output_type": "execute_result"
    }
   ],
   "source": [
    "train_df.columns, test_df.columns"
   ]
  },
  {
   "cell_type": "code",
   "execution_count": 5,
   "metadata": {},
   "outputs": [],
   "source": [
    "# drop id columns (not necessary)\n",
    "# target_df = train_df[[\"price\"]]\n",
    "\n",
    "train_df.drop(columns=[\"id\"], inplace=True)\n",
    "test_df.drop(columns=[\"index\", \"price\"], inplace=True)\n",
    "\n",
    "#pd.concat([train_df, price])"
   ]
  },
  {
   "cell_type": "code",
   "execution_count": 6,
   "metadata": {},
   "outputs": [
    {
     "data": {
      "text/plain": [
       "((175000, 13), (83210, 12))"
      ]
     },
     "execution_count": 6,
     "metadata": {},
     "output_type": "execute_result"
    }
   ],
   "source": [
    "# Column of train one more than test because of the price column\n",
    "train_df.shape, test_df.shape"
   ]
  },
  {
   "cell_type": "code",
   "execution_count": 7,
   "metadata": {},
   "outputs": [
    {
     "data": {
      "text/html": [
       "<div>\n",
       "<style scoped>\n",
       "    .dataframe tbody tr th:only-of-type {\n",
       "        vertical-align: middle;\n",
       "    }\n",
       "\n",
       "    .dataframe tbody tr th {\n",
       "        vertical-align: top;\n",
       "    }\n",
       "\n",
       "    .dataframe thead th {\n",
       "        text-align: right;\n",
       "    }\n",
       "</style>\n",
       "<table border=\"1\" class=\"dataframe\">\n",
       "  <thead>\n",
       "    <tr style=\"text-align: right;\">\n",
       "      <th></th>\n",
       "      <th>0</th>\n",
       "      <th>1</th>\n",
       "      <th>2</th>\n",
       "      <th>3</th>\n",
       "      <th>4</th>\n",
       "      <th>5</th>\n",
       "      <th>6</th>\n",
       "      <th>7</th>\n",
       "      <th>8</th>\n",
       "      <th>9</th>\n",
       "    </tr>\n",
       "  </thead>\n",
       "  <tbody>\n",
       "    <tr>\n",
       "      <th>country</th>\n",
       "      <td>Portugal</td>\n",
       "      <td>France</td>\n",
       "      <td>France</td>\n",
       "      <td>US</td>\n",
       "      <td>US</td>\n",
       "      <td>Spain</td>\n",
       "      <td>France</td>\n",
       "      <td>Italy</td>\n",
       "      <td>US</td>\n",
       "      <td>Italy</td>\n",
       "    </tr>\n",
       "    <tr>\n",
       "      <th>description</th>\n",
       "      <td>This is a fine rich balanced wine. It has ripe...</td>\n",
       "      <td>A solid, chunky wine, with a structure that is...</td>\n",
       "      <td>This is powerful and concentrated, with the hi...</td>\n",
       "      <td>Rich, ripe and oaky, this Petite Sirah charms ...</td>\n",
       "      <td>This wine is a unique in the state blend and f...</td>\n",
       "      <td>This brut nature is citric and bubbly on the p...</td>\n",
       "      <td>A ripe wine that has red-berry fruits, slices ...</td>\n",
       "      <td>From one of Sicily's most beautiful and promis...</td>\n",
       "      <td>This wine plays close to the edge of overripe-...</td>\n",
       "      <td>This basic Prosecco is perfectly quaffable tha...</td>\n",
       "    </tr>\n",
       "    <tr>\n",
       "      <th>designation</th>\n",
       "      <td>Vila Santa Reserva</td>\n",
       "      <td>NaN</td>\n",
       "      <td>NaN</td>\n",
       "      <td>Thompson Vineyard</td>\n",
       "      <td>McKinley Springs Vineyard</td>\n",
       "      <td>Brut Nature Reserva</td>\n",
       "      <td>Cuvée Prestige</td>\n",
       "      <td>Baccante</td>\n",
       "      <td>NaN</td>\n",
       "      <td>Lellè Extra Dry</td>\n",
       "    </tr>\n",
       "    <tr>\n",
       "      <th>points</th>\n",
       "      <td>88.8709</td>\n",
       "      <td>88.0417</td>\n",
       "      <td>94.085</td>\n",
       "      <td>89.8698</td>\n",
       "      <td>89.0177</td>\n",
       "      <td>83.1187</td>\n",
       "      <td>88.3205</td>\n",
       "      <td>85.1735</td>\n",
       "      <td>85.9087</td>\n",
       "      <td>81.9295</td>\n",
       "    </tr>\n",
       "    <tr>\n",
       "      <th>price</th>\n",
       "      <td>20</td>\n",
       "      <td>28</td>\n",
       "      <td>130</td>\n",
       "      <td>34</td>\n",
       "      <td>24</td>\n",
       "      <td>13</td>\n",
       "      <td>35</td>\n",
       "      <td>42</td>\n",
       "      <td>38</td>\n",
       "      <td>14</td>\n",
       "    </tr>\n",
       "    <tr>\n",
       "      <th>province</th>\n",
       "      <td>Alentejano</td>\n",
       "      <td>Bordeaux</td>\n",
       "      <td>Bordeaux</td>\n",
       "      <td>California</td>\n",
       "      <td>Washington</td>\n",
       "      <td>Catalonia</td>\n",
       "      <td>Bordeaux</td>\n",
       "      <td>Sicily &amp; Sardinia</td>\n",
       "      <td>California</td>\n",
       "      <td>Veneto</td>\n",
       "    </tr>\n",
       "    <tr>\n",
       "      <th>region_1</th>\n",
       "      <td>NaN</td>\n",
       "      <td>Lalande de Pomerol</td>\n",
       "      <td>Saint-Émilion</td>\n",
       "      <td>Santa Barbara County</td>\n",
       "      <td>Horse Heaven Hills</td>\n",
       "      <td>Cava</td>\n",
       "      <td>Bordeaux Supérieur</td>\n",
       "      <td>Sicilia</td>\n",
       "      <td>Russian River Valley</td>\n",
       "      <td>Prosecco</td>\n",
       "    </tr>\n",
       "    <tr>\n",
       "      <th>region_2</th>\n",
       "      <td>NaN</td>\n",
       "      <td>NaN</td>\n",
       "      <td>NaN</td>\n",
       "      <td>Central Coast</td>\n",
       "      <td>Columbia Valley</td>\n",
       "      <td>NaN</td>\n",
       "      <td>NaN</td>\n",
       "      <td>NaN</td>\n",
       "      <td>Sonoma</td>\n",
       "      <td>NaN</td>\n",
       "    </tr>\n",
       "    <tr>\n",
       "      <th>taster_name</th>\n",
       "      <td>NaN</td>\n",
       "      <td>NaN</td>\n",
       "      <td>NaN</td>\n",
       "      <td>NaN</td>\n",
       "      <td>Sean P. Sullivan</td>\n",
       "      <td>Michael Schachner</td>\n",
       "      <td>Roger Voss</td>\n",
       "      <td>NaN</td>\n",
       "      <td>Virginie Boone</td>\n",
       "      <td>NaN</td>\n",
       "    </tr>\n",
       "    <tr>\n",
       "      <th>taster_twitter_handle</th>\n",
       "      <td>NaN</td>\n",
       "      <td>NaN</td>\n",
       "      <td>NaN</td>\n",
       "      <td>NaN</td>\n",
       "      <td>@wawinereport</td>\n",
       "      <td>@wineschach</td>\n",
       "      <td>@vossroger</td>\n",
       "      <td>NaN</td>\n",
       "      <td>@vboone</td>\n",
       "      <td>NaN</td>\n",
       "    </tr>\n",
       "    <tr>\n",
       "      <th>title</th>\n",
       "      <td>NaN</td>\n",
       "      <td>NaN</td>\n",
       "      <td>NaN</td>\n",
       "      <td>Jaffurs 2010 Thompson Vineyard Petite Sirah (S...</td>\n",
       "      <td>Syncline 2016 McKinley Springs Vineyard Rosé (...</td>\n",
       "      <td>Mas Fi NV Brut Nature Reserva Sparkling (Cava)</td>\n",
       "      <td>Château Tayet 2014 Cuvée Prestige  (Bordeaux S...</td>\n",
       "      <td>NaN</td>\n",
       "      <td>Matrix 2013 Pinot Noir (Russian River Valley)</td>\n",
       "      <td>NaN</td>\n",
       "    </tr>\n",
       "    <tr>\n",
       "      <th>variety</th>\n",
       "      <td>PORTUGUESE RED</td>\n",
       "      <td>BORDEAUX-STYLE RED BLEND</td>\n",
       "      <td>BORDEAUX-STYLE RED BLEND</td>\n",
       "      <td>PETITE SIRAH</td>\n",
       "      <td>ROSé</td>\n",
       "      <td>SPARKLING BLEND</td>\n",
       "      <td>BORDEAUX-STYLE RED BLEND</td>\n",
       "      <td>WHITE BLEND</td>\n",
       "      <td>PINOT NOIR</td>\n",
       "      <td>GLERA</td>\n",
       "    </tr>\n",
       "    <tr>\n",
       "      <th>winery</th>\n",
       "      <td>J. Portugal Ramos</td>\n",
       "      <td>Château Tour Grand Colombier</td>\n",
       "      <td>Château Figeac</td>\n",
       "      <td>Jaffurs</td>\n",
       "      <td>Syncline</td>\n",
       "      <td>Mas Fi</td>\n",
       "      <td>Château Tayet</td>\n",
       "      <td>Abbazia Santa Anastasia</td>\n",
       "      <td>Matrix</td>\n",
       "      <td>Fattoria Giuseppe Savini</td>\n",
       "    </tr>\n",
       "  </tbody>\n",
       "</table>\n",
       "</div>"
      ],
      "text/plain": [
       "                                                                       0  \\\n",
       "country                                                         Portugal   \n",
       "description            This is a fine rich balanced wine. It has ripe...   \n",
       "designation                                           Vila Santa Reserva   \n",
       "points                                                           88.8709   \n",
       "price                                                                 20   \n",
       "province                                                      Alentejano   \n",
       "region_1                                                             NaN   \n",
       "region_2                                                             NaN   \n",
       "taster_name                                                          NaN   \n",
       "taster_twitter_handle                                                NaN   \n",
       "title                                                                NaN   \n",
       "variety                                                   PORTUGUESE RED   \n",
       "winery                                                 J. Portugal Ramos   \n",
       "\n",
       "                                                                       1  \\\n",
       "country                                                           France   \n",
       "description            A solid, chunky wine, with a structure that is...   \n",
       "designation                                                          NaN   \n",
       "points                                                           88.0417   \n",
       "price                                                                 28   \n",
       "province                                                        Bordeaux   \n",
       "region_1                                              Lalande de Pomerol   \n",
       "region_2                                                             NaN   \n",
       "taster_name                                                          NaN   \n",
       "taster_twitter_handle                                                NaN   \n",
       "title                                                                NaN   \n",
       "variety                                         BORDEAUX-STYLE RED BLEND   \n",
       "winery                                      Château Tour Grand Colombier   \n",
       "\n",
       "                                                                       2  \\\n",
       "country                                                           France   \n",
       "description            This is powerful and concentrated, with the hi...   \n",
       "designation                                                          NaN   \n",
       "points                                                            94.085   \n",
       "price                                                                130   \n",
       "province                                                        Bordeaux   \n",
       "region_1                                                   Saint-Émilion   \n",
       "region_2                                                             NaN   \n",
       "taster_name                                                          NaN   \n",
       "taster_twitter_handle                                                NaN   \n",
       "title                                                                NaN   \n",
       "variety                                         BORDEAUX-STYLE RED BLEND   \n",
       "winery                                                    Château Figeac   \n",
       "\n",
       "                                                                       3  \\\n",
       "country                                                               US   \n",
       "description            Rich, ripe and oaky, this Petite Sirah charms ...   \n",
       "designation                                            Thompson Vineyard   \n",
       "points                                                           89.8698   \n",
       "price                                                                 34   \n",
       "province                                                      California   \n",
       "region_1                                            Santa Barbara County   \n",
       "region_2                                                   Central Coast   \n",
       "taster_name                                                          NaN   \n",
       "taster_twitter_handle                                                NaN   \n",
       "title                  Jaffurs 2010 Thompson Vineyard Petite Sirah (S...   \n",
       "variety                                                     PETITE SIRAH   \n",
       "winery                                                           Jaffurs   \n",
       "\n",
       "                                                                       4  \\\n",
       "country                                                               US   \n",
       "description            This wine is a unique in the state blend and f...   \n",
       "designation                                    McKinley Springs Vineyard   \n",
       "points                                                           89.0177   \n",
       "price                                                                 24   \n",
       "province                                                      Washington   \n",
       "region_1                                              Horse Heaven Hills   \n",
       "region_2                                                 Columbia Valley   \n",
       "taster_name                                             Sean P. Sullivan   \n",
       "taster_twitter_handle                                      @wawinereport   \n",
       "title                  Syncline 2016 McKinley Springs Vineyard Rosé (...   \n",
       "variety                                                             ROSé   \n",
       "winery                                                          Syncline   \n",
       "\n",
       "                                                                       5  \\\n",
       "country                                                            Spain   \n",
       "description            This brut nature is citric and bubbly on the p...   \n",
       "designation                                          Brut Nature Reserva   \n",
       "points                                                           83.1187   \n",
       "price                                                                 13   \n",
       "province                                                       Catalonia   \n",
       "region_1                                                            Cava   \n",
       "region_2                                                             NaN   \n",
       "taster_name                                            Michael Schachner   \n",
       "taster_twitter_handle                                        @wineschach   \n",
       "title                     Mas Fi NV Brut Nature Reserva Sparkling (Cava)   \n",
       "variety                                                  SPARKLING BLEND   \n",
       "winery                                                            Mas Fi   \n",
       "\n",
       "                                                                       6  \\\n",
       "country                                                           France   \n",
       "description            A ripe wine that has red-berry fruits, slices ...   \n",
       "designation                                               Cuvée Prestige   \n",
       "points                                                           88.3205   \n",
       "price                                                                 35   \n",
       "province                                                        Bordeaux   \n",
       "region_1                                              Bordeaux Supérieur   \n",
       "region_2                                                             NaN   \n",
       "taster_name                                                   Roger Voss   \n",
       "taster_twitter_handle                                         @vossroger   \n",
       "title                  Château Tayet 2014 Cuvée Prestige  (Bordeaux S...   \n",
       "variety                                         BORDEAUX-STYLE RED BLEND   \n",
       "winery                                                     Château Tayet   \n",
       "\n",
       "                                                                       7  \\\n",
       "country                                                            Italy   \n",
       "description            From one of Sicily's most beautiful and promis...   \n",
       "designation                                                     Baccante   \n",
       "points                                                           85.1735   \n",
       "price                                                                 42   \n",
       "province                                               Sicily & Sardinia   \n",
       "region_1                                                         Sicilia   \n",
       "region_2                                                             NaN   \n",
       "taster_name                                                          NaN   \n",
       "taster_twitter_handle                                                NaN   \n",
       "title                                                                NaN   \n",
       "variety                                                      WHITE BLEND   \n",
       "winery                                           Abbazia Santa Anastasia   \n",
       "\n",
       "                                                                       8  \\\n",
       "country                                                               US   \n",
       "description            This wine plays close to the edge of overripe-...   \n",
       "designation                                                          NaN   \n",
       "points                                                           85.9087   \n",
       "price                                                                 38   \n",
       "province                                                      California   \n",
       "region_1                                            Russian River Valley   \n",
       "region_2                                                          Sonoma   \n",
       "taster_name                                               Virginie Boone   \n",
       "taster_twitter_handle                                            @vboone   \n",
       "title                      Matrix 2013 Pinot Noir (Russian River Valley)   \n",
       "variety                                                       PINOT NOIR   \n",
       "winery                                                            Matrix   \n",
       "\n",
       "                                                                       9  \n",
       "country                                                            Italy  \n",
       "description            This basic Prosecco is perfectly quaffable tha...  \n",
       "designation                                              Lellè Extra Dry  \n",
       "points                                                           81.9295  \n",
       "price                                                                 14  \n",
       "province                                                          Veneto  \n",
       "region_1                                                        Prosecco  \n",
       "region_2                                                             NaN  \n",
       "taster_name                                                          NaN  \n",
       "taster_twitter_handle                                                NaN  \n",
       "title                                                                NaN  \n",
       "variety                                                            GLERA  \n",
       "winery                                          Fattoria Giuseppe Savini  "
      ]
     },
     "execution_count": 7,
     "metadata": {},
     "output_type": "execute_result"
    }
   ],
   "source": [
    "train_df.head(10).T"
   ]
  },
  {
   "cell_type": "code",
   "execution_count": 8,
   "metadata": {},
   "outputs": [
    {
     "data": {
      "text/html": [
       "<div>\n",
       "<style scoped>\n",
       "    .dataframe tbody tr th:only-of-type {\n",
       "        vertical-align: middle;\n",
       "    }\n",
       "\n",
       "    .dataframe tbody tr th {\n",
       "        vertical-align: top;\n",
       "    }\n",
       "\n",
       "    .dataframe thead th {\n",
       "        text-align: right;\n",
       "    }\n",
       "</style>\n",
       "<table border=\"1\" class=\"dataframe\">\n",
       "  <thead>\n",
       "    <tr style=\"text-align: right;\">\n",
       "      <th>id</th>\n",
       "      <th>0</th>\n",
       "      <th>1</th>\n",
       "      <th>2</th>\n",
       "      <th>3</th>\n",
       "      <th>4</th>\n",
       "    </tr>\n",
       "  </thead>\n",
       "  <tbody>\n",
       "    <tr>\n",
       "      <th>country</th>\n",
       "      <td>US</td>\n",
       "      <td>France</td>\n",
       "      <td>US</td>\n",
       "      <td>US</td>\n",
       "      <td>US</td>\n",
       "    </tr>\n",
       "    <tr>\n",
       "      <th>description</th>\n",
       "      <td>Sweet new oak stands out, giving this Cabernet...</td>\n",
       "      <td>Charming raspberry aromas intertwine with scen...</td>\n",
       "      <td>Ripe blackberry, leather and soy show on the n...</td>\n",
       "      <td>White flowers and wild anise give this a crisp...</td>\n",
       "      <td>Pinot Gris has been making inroads in Washingt...</td>\n",
       "    </tr>\n",
       "    <tr>\n",
       "      <th>designation</th>\n",
       "      <td>3D</td>\n",
       "      <td>Heluicum</td>\n",
       "      <td>Estate</td>\n",
       "      <td>NaN</td>\n",
       "      <td>NaN</td>\n",
       "    </tr>\n",
       "    <tr>\n",
       "      <th>points</th>\n",
       "      <td>95.0365</td>\n",
       "      <td>90.9664</td>\n",
       "      <td>88.9644</td>\n",
       "      <td>89.9604</td>\n",
       "      <td>88.0755</td>\n",
       "    </tr>\n",
       "    <tr>\n",
       "      <th>province</th>\n",
       "      <td>California</td>\n",
       "      <td>Rhône Valley</td>\n",
       "      <td>California</td>\n",
       "      <td>California</td>\n",
       "      <td>Washington</td>\n",
       "    </tr>\n",
       "    <tr>\n",
       "      <th>region_1</th>\n",
       "      <td>St. Helena</td>\n",
       "      <td>Collines Rhôdaniennes</td>\n",
       "      <td>Santa Ynez Valley</td>\n",
       "      <td>Sonoma Coast</td>\n",
       "      <td>Columbia Valley (WA)</td>\n",
       "    </tr>\n",
       "    <tr>\n",
       "      <th>region_2</th>\n",
       "      <td>Napa</td>\n",
       "      <td>NaN</td>\n",
       "      <td>Central Coast</td>\n",
       "      <td>Sonoma</td>\n",
       "      <td>Columbia Valley</td>\n",
       "    </tr>\n",
       "    <tr>\n",
       "      <th>taster_name</th>\n",
       "      <td>NaN</td>\n",
       "      <td>NaN</td>\n",
       "      <td>Matt Kettmann</td>\n",
       "      <td>Virginie Boone</td>\n",
       "      <td>Sean P. Sullivan</td>\n",
       "    </tr>\n",
       "    <tr>\n",
       "      <th>taster_twitter_handle</th>\n",
       "      <td>NaN</td>\n",
       "      <td>NaN</td>\n",
       "      <td>@mattkettmann</td>\n",
       "      <td>@vboone</td>\n",
       "      <td>@wawinereport</td>\n",
       "    </tr>\n",
       "    <tr>\n",
       "      <th>title</th>\n",
       "      <td>Salvestrin 2007 3D Cabernet Sauvignon (St. Hel...</td>\n",
       "      <td>NaN</td>\n",
       "      <td>Brave &amp; Maiden 2013 Estate Cabernet Franc (San...</td>\n",
       "      <td>Les Voleurs 2013 Chardonnay (Sonoma Coast)</td>\n",
       "      <td>Chateau Ste. Michelle 2015 Pinot Gris (Columbi...</td>\n",
       "    </tr>\n",
       "    <tr>\n",
       "      <th>variety</th>\n",
       "      <td>CABERNET SAUVIGNON</td>\n",
       "      <td>SYRAH</td>\n",
       "      <td>CABERNET FRANC</td>\n",
       "      <td>CHARDONNAY</td>\n",
       "      <td>PINOT GRIS</td>\n",
       "    </tr>\n",
       "    <tr>\n",
       "      <th>winery</th>\n",
       "      <td>Salvestrin</td>\n",
       "      <td>Les Vins de Vienne</td>\n",
       "      <td>Brave &amp; Maiden</td>\n",
       "      <td>Les Voleurs</td>\n",
       "      <td>Chateau Ste. Michelle</td>\n",
       "    </tr>\n",
       "  </tbody>\n",
       "</table>\n",
       "</div>"
      ],
      "text/plain": [
       "id                                                                     0  \\\n",
       "country                                                               US   \n",
       "description            Sweet new oak stands out, giving this Cabernet...   \n",
       "designation                                                           3D   \n",
       "points                                                           95.0365   \n",
       "province                                                      California   \n",
       "region_1                                                      St. Helena   \n",
       "region_2                                                            Napa   \n",
       "taster_name                                                          NaN   \n",
       "taster_twitter_handle                                                NaN   \n",
       "title                  Salvestrin 2007 3D Cabernet Sauvignon (St. Hel...   \n",
       "variety                                               CABERNET SAUVIGNON   \n",
       "winery                                                        Salvestrin   \n",
       "\n",
       "id                                                                     1  \\\n",
       "country                                                           France   \n",
       "description            Charming raspberry aromas intertwine with scen...   \n",
       "designation                                                     Heluicum   \n",
       "points                                                           90.9664   \n",
       "province                                                    Rhône Valley   \n",
       "region_1                                           Collines Rhôdaniennes   \n",
       "region_2                                                             NaN   \n",
       "taster_name                                                          NaN   \n",
       "taster_twitter_handle                                                NaN   \n",
       "title                                                                NaN   \n",
       "variety                                                            SYRAH   \n",
       "winery                                                Les Vins de Vienne   \n",
       "\n",
       "id                                                                     2  \\\n",
       "country                                                               US   \n",
       "description            Ripe blackberry, leather and soy show on the n...   \n",
       "designation                                                       Estate   \n",
       "points                                                           88.9644   \n",
       "province                                                      California   \n",
       "region_1                                               Santa Ynez Valley   \n",
       "region_2                                                   Central Coast   \n",
       "taster_name                                                Matt Kettmann   \n",
       "taster_twitter_handle                                      @mattkettmann   \n",
       "title                  Brave & Maiden 2013 Estate Cabernet Franc (San...   \n",
       "variety                                                   CABERNET FRANC   \n",
       "winery                                                    Brave & Maiden   \n",
       "\n",
       "id                                                                     3  \\\n",
       "country                                                               US   \n",
       "description            White flowers and wild anise give this a crisp...   \n",
       "designation                                                          NaN   \n",
       "points                                                           89.9604   \n",
       "province                                                      California   \n",
       "region_1                                                    Sonoma Coast   \n",
       "region_2                                                          Sonoma   \n",
       "taster_name                                               Virginie Boone   \n",
       "taster_twitter_handle                                            @vboone   \n",
       "title                         Les Voleurs 2013 Chardonnay (Sonoma Coast)   \n",
       "variety                                                       CHARDONNAY   \n",
       "winery                                                       Les Voleurs   \n",
       "\n",
       "id                                                                     4  \n",
       "country                                                               US  \n",
       "description            Pinot Gris has been making inroads in Washingt...  \n",
       "designation                                                          NaN  \n",
       "points                                                           88.0755  \n",
       "province                                                      Washington  \n",
       "region_1                                            Columbia Valley (WA)  \n",
       "region_2                                                 Columbia Valley  \n",
       "taster_name                                             Sean P. Sullivan  \n",
       "taster_twitter_handle                                      @wawinereport  \n",
       "title                  Chateau Ste. Michelle 2015 Pinot Gris (Columbi...  \n",
       "variety                                                       PINOT GRIS  \n",
       "winery                                             Chateau Ste. Michelle  "
      ]
     },
     "execution_count": 8,
     "metadata": {},
     "output_type": "execute_result"
    }
   ],
   "source": [
    "test_df.head(5).T"
   ]
  },
  {
   "cell_type": "code",
   "execution_count": 9,
   "metadata": {},
   "outputs": [
    {
     "data": {
      "text/html": [
       "<div>\n",
       "<style scoped>\n",
       "    .dataframe tbody tr th:only-of-type {\n",
       "        vertical-align: middle;\n",
       "    }\n",
       "\n",
       "    .dataframe tbody tr th {\n",
       "        vertical-align: top;\n",
       "    }\n",
       "\n",
       "    .dataframe thead th {\n",
       "        text-align: right;\n",
       "    }\n",
       "</style>\n",
       "<table border=\"1\" class=\"dataframe\">\n",
       "  <thead>\n",
       "    <tr style=\"text-align: right;\">\n",
       "      <th></th>\n",
       "      <th>train_data (17500)</th>\n",
       "      <th>test_data (83210)</th>\n",
       "    </tr>\n",
       "  </thead>\n",
       "  <tbody>\n",
       "    <tr>\n",
       "      <th>country</th>\n",
       "      <td>174953</td>\n",
       "      <td>83193</td>\n",
       "    </tr>\n",
       "    <tr>\n",
       "      <th>description</th>\n",
       "      <td>175000</td>\n",
       "      <td>83210</td>\n",
       "    </tr>\n",
       "    <tr>\n",
       "      <th>designation</th>\n",
       "      <td>122734</td>\n",
       "      <td>58386</td>\n",
       "    </tr>\n",
       "    <tr>\n",
       "      <th>points</th>\n",
       "      <td>175000</td>\n",
       "      <td>83210</td>\n",
       "    </tr>\n",
       "    <tr>\n",
       "      <th>province</th>\n",
       "      <td>174953</td>\n",
       "      <td>83193</td>\n",
       "    </tr>\n",
       "    <tr>\n",
       "      <th>region_1</th>\n",
       "      <td>146466</td>\n",
       "      <td>69327</td>\n",
       "    </tr>\n",
       "    <tr>\n",
       "      <th>region_2</th>\n",
       "      <td>75394</td>\n",
       "      <td>35602</td>\n",
       "    </tr>\n",
       "    <tr>\n",
       "      <th>taster_name</th>\n",
       "      <td>65509</td>\n",
       "      <td>30970</td>\n",
       "    </tr>\n",
       "    <tr>\n",
       "      <th>taster_twitter_handle</th>\n",
       "      <td>62190</td>\n",
       "      <td>29369</td>\n",
       "    </tr>\n",
       "    <tr>\n",
       "      <th>title</th>\n",
       "      <td>82189</td>\n",
       "      <td>38786</td>\n",
       "    </tr>\n",
       "    <tr>\n",
       "      <th>variety</th>\n",
       "      <td>174999</td>\n",
       "      <td>83210</td>\n",
       "    </tr>\n",
       "    <tr>\n",
       "      <th>winery</th>\n",
       "      <td>175000</td>\n",
       "      <td>83210</td>\n",
       "    </tr>\n",
       "  </tbody>\n",
       "</table>\n",
       "</div>"
      ],
      "text/plain": [
       "                       train_data (17500)  test_data (83210)\n",
       "country                            174953              83193\n",
       "description                        175000              83210\n",
       "designation                        122734              58386\n",
       "points                             175000              83210\n",
       "province                           174953              83193\n",
       "region_1                           146466              69327\n",
       "region_2                            75394              35602\n",
       "taster_name                         65509              30970\n",
       "taster_twitter_handle               62190              29369\n",
       "title                               82189              38786\n",
       "variety                            174999              83210\n",
       "winery                             175000              83210"
      ]
     },
     "execution_count": 9,
     "metadata": {},
     "output_type": "execute_result"
    }
   ],
   "source": [
    "# Check if similar amount of null values in train and test columns\n",
    "a = train_df.drop(columns=[\"price\"]).count()\n",
    "b = test_df.count()\n",
    "pd.DataFrame({\"train_data (17500)\": a, \"test_data (83210)\": b})"
   ]
  },
  {
   "cell_type": "code",
   "execution_count": 10,
   "metadata": {},
   "outputs": [
    {
     "name": "stdout",
     "output_type": "stream",
     "text": [
      "<class 'pandas.core.frame.DataFrame'>\n",
      "RangeIndex: 175000 entries, 0 to 174999\n",
      "Data columns (total 13 columns):\n",
      "country                  174953 non-null object\n",
      "description              175000 non-null object\n",
      "designation              122734 non-null object\n",
      "points                   175000 non-null float64\n",
      "price                    175000 non-null float64\n",
      "province                 174953 non-null object\n",
      "region_1                 146466 non-null object\n",
      "region_2                 75394 non-null object\n",
      "taster_name              65509 non-null object\n",
      "taster_twitter_handle    62190 non-null object\n",
      "title                    82189 non-null object\n",
      "variety                  174999 non-null object\n",
      "winery                   175000 non-null object\n",
      "dtypes: float64(2), object(11)\n",
      "memory usage: 17.4+ MB\n",
      "<class 'pandas.core.frame.DataFrame'>\n",
      "Int64Index: 83210 entries, 0 to 83209\n",
      "Data columns (total 12 columns):\n",
      "country                  83193 non-null object\n",
      "description              83210 non-null object\n",
      "designation              58386 non-null object\n",
      "points                   83210 non-null float64\n",
      "province                 83193 non-null object\n",
      "region_1                 69327 non-null object\n",
      "region_2                 35602 non-null object\n",
      "taster_name              30970 non-null object\n",
      "taster_twitter_handle    29369 non-null object\n",
      "title                    38786 non-null object\n",
      "variety                  83210 non-null object\n",
      "winery                   83210 non-null object\n",
      "dtypes: float64(1), object(11)\n",
      "memory usage: 8.3+ MB\n"
     ]
    },
    {
     "data": {
      "text/plain": [
       "(None, None)"
      ]
     },
     "execution_count": 10,
     "metadata": {},
     "output_type": "execute_result"
    }
   ],
   "source": [
    "# Check data types\n",
    "train_df.info(),  test_df.info()"
   ]
  },
  {
   "cell_type": "markdown",
   "metadata": {},
   "source": [
    "Observations: Only one numeric predictor; Many columns with null values"
   ]
  },
  {
   "cell_type": "code",
   "execution_count": 11,
   "metadata": {},
   "outputs": [
    {
     "data": {
      "text/html": [
       "<div>\n",
       "<style scoped>\n",
       "    .dataframe tbody tr th:only-of-type {\n",
       "        vertical-align: middle;\n",
       "    }\n",
       "\n",
       "    .dataframe tbody tr th {\n",
       "        vertical-align: top;\n",
       "    }\n",
       "\n",
       "    .dataframe thead th {\n",
       "        text-align: right;\n",
       "    }\n",
       "</style>\n",
       "<table border=\"1\" class=\"dataframe\">\n",
       "  <thead>\n",
       "    <tr style=\"text-align: right;\">\n",
       "      <th></th>\n",
       "      <th>% Null Values in Train Set</th>\n",
       "    </tr>\n",
       "  </thead>\n",
       "  <tbody>\n",
       "    <tr>\n",
       "      <th>country</th>\n",
       "      <td>0.026857</td>\n",
       "    </tr>\n",
       "    <tr>\n",
       "      <th>description</th>\n",
       "      <td>0.000000</td>\n",
       "    </tr>\n",
       "    <tr>\n",
       "      <th>designation</th>\n",
       "      <td>29.866286</td>\n",
       "    </tr>\n",
       "    <tr>\n",
       "      <th>points</th>\n",
       "      <td>0.000000</td>\n",
       "    </tr>\n",
       "    <tr>\n",
       "      <th>price</th>\n",
       "      <td>0.000000</td>\n",
       "    </tr>\n",
       "    <tr>\n",
       "      <th>province</th>\n",
       "      <td>0.026857</td>\n",
       "    </tr>\n",
       "    <tr>\n",
       "      <th>region_1</th>\n",
       "      <td>16.305143</td>\n",
       "    </tr>\n",
       "    <tr>\n",
       "      <th>region_2</th>\n",
       "      <td>56.917714</td>\n",
       "    </tr>\n",
       "    <tr>\n",
       "      <th>taster_name</th>\n",
       "      <td>62.566286</td>\n",
       "    </tr>\n",
       "    <tr>\n",
       "      <th>taster_twitter_handle</th>\n",
       "      <td>64.462857</td>\n",
       "    </tr>\n",
       "    <tr>\n",
       "      <th>title</th>\n",
       "      <td>53.034857</td>\n",
       "    </tr>\n",
       "    <tr>\n",
       "      <th>variety</th>\n",
       "      <td>0.000571</td>\n",
       "    </tr>\n",
       "    <tr>\n",
       "      <th>winery</th>\n",
       "      <td>0.000000</td>\n",
       "    </tr>\n",
       "  </tbody>\n",
       "</table>\n",
       "</div>"
      ],
      "text/plain": [
       "                       % Null Values in Train Set\n",
       "country                                  0.026857\n",
       "description                              0.000000\n",
       "designation                             29.866286\n",
       "points                                   0.000000\n",
       "price                                    0.000000\n",
       "province                                 0.026857\n",
       "region_1                                16.305143\n",
       "region_2                                56.917714\n",
       "taster_name                             62.566286\n",
       "taster_twitter_handle                   64.462857\n",
       "title                                   53.034857\n",
       "variety                                  0.000571\n",
       "winery                                   0.000000"
      ]
     },
     "execution_count": 11,
     "metadata": {},
     "output_type": "execute_result"
    }
   ],
   "source": [
    "# % of  NULL values\n",
    "null_values = [train_df[x].isnull().sum()/1750 for x in train_df.columns ]\n",
    "pd.DataFrame(null_values, index=train_df.columns, columns=[\"% Null Values in Train Set\"])"
   ]
  },
  {
   "cell_type": "markdown",
   "metadata": {},
   "source": [
    "Observation: Designation, regions, tasters, title have sparse vectors"
   ]
  },
  {
   "cell_type": "code",
   "execution_count": 12,
   "metadata": {},
   "outputs": [
    {
     "data": {
      "text/html": [
       "<div>\n",
       "<style scoped>\n",
       "    .dataframe tbody tr th:only-of-type {\n",
       "        vertical-align: middle;\n",
       "    }\n",
       "\n",
       "    .dataframe tbody tr th {\n",
       "        vertical-align: top;\n",
       "    }\n",
       "\n",
       "    .dataframe thead th {\n",
       "        text-align: right;\n",
       "    }\n",
       "</style>\n",
       "<table border=\"1\" class=\"dataframe\">\n",
       "  <thead>\n",
       "    <tr style=\"text-align: right;\">\n",
       "      <th></th>\n",
       "      <th>points</th>\n",
       "      <th>price</th>\n",
       "    </tr>\n",
       "  </thead>\n",
       "  <tbody>\n",
       "    <tr>\n",
       "      <th>count</th>\n",
       "      <td>175000.000000</td>\n",
       "      <td>175000.000000</td>\n",
       "    </tr>\n",
       "    <tr>\n",
       "      <th>mean</th>\n",
       "      <td>88.083987</td>\n",
       "      <td>34.304400</td>\n",
       "    </tr>\n",
       "    <tr>\n",
       "      <th>std</th>\n",
       "      <td>3.157001</td>\n",
       "      <td>38.398146</td>\n",
       "    </tr>\n",
       "    <tr>\n",
       "      <th>min</th>\n",
       "      <td>79.636128</td>\n",
       "      <td>4.000000</td>\n",
       "    </tr>\n",
       "    <tr>\n",
       "      <th>25%</th>\n",
       "      <td>85.971283</td>\n",
       "      <td>16.000000</td>\n",
       "    </tr>\n",
       "    <tr>\n",
       "      <th>50%</th>\n",
       "      <td>87.981631</td>\n",
       "      <td>25.000000</td>\n",
       "    </tr>\n",
       "    <tr>\n",
       "      <th>75%</th>\n",
       "      <td>90.085631</td>\n",
       "      <td>40.000000</td>\n",
       "    </tr>\n",
       "    <tr>\n",
       "      <th>max</th>\n",
       "      <td>100.220603</td>\n",
       "      <td>2500.000000</td>\n",
       "    </tr>\n",
       "  </tbody>\n",
       "</table>\n",
       "</div>"
      ],
      "text/plain": [
       "              points          price\n",
       "count  175000.000000  175000.000000\n",
       "mean       88.083987      34.304400\n",
       "std         3.157001      38.398146\n",
       "min        79.636128       4.000000\n",
       "25%        85.971283      16.000000\n",
       "50%        87.981631      25.000000\n",
       "75%        90.085631      40.000000\n",
       "max       100.220603    2500.000000"
      ]
     },
     "execution_count": 12,
     "metadata": {},
     "output_type": "execute_result"
    }
   ],
   "source": [
    "train_df.describe()"
   ]
  },
  {
   "cell_type": "markdown",
   "metadata": {},
   "source": [
    "Observation: Points range from 79 to 100(approx), with a mean of 88. Price has a large range and probably skewed"
   ]
  },
  {
   "cell_type": "code",
   "execution_count": 13,
   "metadata": {},
   "outputs": [],
   "source": [
    "# Using log of price to reduce large values\n",
    "# train_price = np.log(train_df[\"price\"])\n",
    "train_df[\"price_trans\"] = np.log(train_df[\"price\"])"
   ]
  },
  {
   "cell_type": "code",
   "execution_count": 14,
   "metadata": {},
   "outputs": [
    {
     "data": {
      "image/png": "[encoded data removed]",
      "text/plain": [
       "<Figure size 864x288 with 2 Axes>"
      ]
     },
     "metadata": {
      "needs_background": "light"
     },
     "output_type": "display_data"
    }
   ],
   "source": [
    "fig, ax = plt.subplots(1,2, figsize=(12,4))\n",
    "ax[0].scatter(train_df['points'], train_df['price'])\n",
    "ax[1].scatter(train_df['points'], train_df['price_trans'])\n",
    "\n",
    "ax[0].set_title(\"Point & Price Relationship before Transformation\")\n",
    "ax[1].set_title(\"Point & Price After Transformation\")\n",
    "\n",
    "plt.tight_layout()"
   ]
  },
  {
   "cell_type": "code",
   "execution_count": 15,
   "metadata": {},
   "outputs": [
    {
     "data": {
      "image/png": "[encoded data removed]",
      "text/plain": [
       "<Figure size 864x288 with 2 Axes>"
      ]
     },
     "metadata": {
      "needs_background": "light"
     },
     "output_type": "display_data"
    }
   ],
   "source": [
    "fig, ax = plt.subplots(1,2, figsize=(12,4))\n",
    "ax[0].hist(train_df['price'], bins=50)\n",
    "ax[1].hist(train_df['price_trans'], bins=50)\n",
    "\n",
    "ax[0].set_title(\"Price Distribution before Transformation\")\n",
    "ax[1].set_title(\"Price Distribution after Transformation\")\n",
    "\n",
    "plt.tight_layout()"
   ]
  },
  {
   "cell_type": "markdown",
   "metadata": {},
   "source": [
    "Observation: Price was left skewed, now normally distributed"
   ]
  },
  {
   "cell_type": "code",
   "execution_count": 16,
   "metadata": {},
   "outputs": [
    {
     "name": "stdout",
     "output_type": "stream",
     "text": [
      "          points     price\n",
      "points  1.000000  0.443276\n",
      "price   0.443276  1.000000\n",
      "               points  price_trans\n",
      "points       1.000000     0.612512\n",
      "price_trans  0.612512     1.000000\n"
     ]
    }
   ],
   "source": [
    "print(train_df[['points', 'price']].corr())\n",
    "print(train_df[['points', 'price_trans']].corr())"
   ]
  },
  {
   "cell_type": "markdown",
   "metadata": {},
   "source": [
    "Observation: Transformed price has better correlation and distribution"
   ]
  },
  {
   "cell_type": "markdown",
   "metadata": {},
   "source": [
    "### Imputation / Dealing with null values"
   ]
  },
  {
   "cell_type": "markdown",
   "metadata": {},
   "source": [
    "Missing: **Variety**  \n",
    "Missing variety can be found in title"
   ]
  },
  {
   "cell_type": "code",
   "execution_count": 17,
   "metadata": {},
   "outputs": [
    {
     "data": {
      "text/html": [
       "<div>\n",
       "<style scoped>\n",
       "    .dataframe tbody tr th:only-of-type {\n",
       "        vertical-align: middle;\n",
       "    }\n",
       "\n",
       "    .dataframe tbody tr th {\n",
       "        vertical-align: top;\n",
       "    }\n",
       "\n",
       "    .dataframe thead th {\n",
       "        text-align: right;\n",
       "    }\n",
       "</style>\n",
       "<table border=\"1\" class=\"dataframe\">\n",
       "  <thead>\n",
       "    <tr style=\"text-align: right;\">\n",
       "      <th></th>\n",
       "      <th>country</th>\n",
       "      <th>description</th>\n",
       "      <th>designation</th>\n",
       "      <th>points</th>\n",
       "      <th>price</th>\n",
       "      <th>province</th>\n",
       "      <th>region_1</th>\n",
       "      <th>region_2</th>\n",
       "      <th>taster_name</th>\n",
       "      <th>taster_twitter_handle</th>\n",
       "      <th>title</th>\n",
       "      <th>variety</th>\n",
       "      <th>winery</th>\n",
       "      <th>price_trans</th>\n",
       "    </tr>\n",
       "  </thead>\n",
       "  <tbody>\n",
       "    <tr>\n",
       "      <th>86403</th>\n",
       "      <td>Chile</td>\n",
       "      <td>A chalky, dusty mouthfeel nicely balances this...</td>\n",
       "      <td>NaN</td>\n",
       "      <td>88.046742</td>\n",
       "      <td>17.0</td>\n",
       "      <td>Maipo Valley</td>\n",
       "      <td>NaN</td>\n",
       "      <td>NaN</td>\n",
       "      <td>NaN</td>\n",
       "      <td>NaN</td>\n",
       "      <td>Carmen 1999  (Maipo Valley)</td>\n",
       "      <td>NaN</td>\n",
       "      <td>Carmen</td>\n",
       "      <td>2.833213</td>\n",
       "    </tr>\n",
       "  </tbody>\n",
       "</table>\n",
       "</div>"
      ],
      "text/plain": [
       "      country                                        description designation  \\\n",
       "86403   Chile  A chalky, dusty mouthfeel nicely balances this...         NaN   \n",
       "\n",
       "          points  price      province region_1 region_2 taster_name  \\\n",
       "86403  88.046742   17.0  Maipo Valley      NaN      NaN         NaN   \n",
       "\n",
       "      taster_twitter_handle                        title variety  winery  \\\n",
       "86403                   NaN  Carmen 1999  (Maipo Valley)     NaN  Carmen   \n",
       "\n",
       "       price_trans  \n",
       "86403     2.833213  "
      ]
     },
     "execution_count": 17,
     "metadata": {},
     "output_type": "execute_result"
    }
   ],
   "source": [
    "train_df[train_df['variety'].isnull()]"
   ]
  },
  {
   "cell_type": "code",
   "execution_count": 18,
   "metadata": {},
   "outputs": [
    {
     "name": "stdout",
     "output_type": "stream",
     "text": [
      "CABERNET SAUVIGNON\n"
     ]
    }
   ],
   "source": [
    "variety = train_df[(train_df['province'] == 'Maipo Valley') & (train_df['winery'] == 'Carmen')]['variety'].mode()[0]\n",
    "print(variety)\n",
    "\n",
    "train_df['variety'][86403] = variety"
   ]
  },
  {
   "cell_type": "markdown",
   "metadata": {},
   "source": [
    "Missing: **Designation**  \n",
    "Information of 'designation' is contained in 'title'"
   ]
  },
  {
   "cell_type": "code",
   "execution_count": 19,
   "metadata": {},
   "outputs": [
    {
     "data": {
      "text/html": [
       "<div>\n",
       "<style scoped>\n",
       "    .dataframe tbody tr th:only-of-type {\n",
       "        vertical-align: middle;\n",
       "    }\n",
       "\n",
       "    .dataframe tbody tr th {\n",
       "        vertical-align: top;\n",
       "    }\n",
       "\n",
       "    .dataframe thead th {\n",
       "        text-align: right;\n",
       "    }\n",
       "</style>\n",
       "<table border=\"1\" class=\"dataframe\">\n",
       "  <thead>\n",
       "    <tr style=\"text-align: right;\">\n",
       "      <th></th>\n",
       "      <th>title</th>\n",
       "      <th>designation</th>\n",
       "    </tr>\n",
       "  </thead>\n",
       "  <tbody>\n",
       "    <tr>\n",
       "      <th>5</th>\n",
       "      <td>Mas Fi NV Brut Nature Reserva Sparkling (Cava)</td>\n",
       "      <td>Brut Nature Reserva</td>\n",
       "    </tr>\n",
       "    <tr>\n",
       "      <th>6</th>\n",
       "      <td>Château Tayet 2014 Cuvée Prestige  (Bordeaux S...</td>\n",
       "      <td>Cuvée Prestige</td>\n",
       "    </tr>\n",
       "    <tr>\n",
       "      <th>7</th>\n",
       "      <td>NaN</td>\n",
       "      <td>Baccante</td>\n",
       "    </tr>\n",
       "    <tr>\n",
       "      <th>8</th>\n",
       "      <td>Matrix 2013 Pinot Noir (Russian River Valley)</td>\n",
       "      <td>NaN</td>\n",
       "    </tr>\n",
       "    <tr>\n",
       "      <th>9</th>\n",
       "      <td>NaN</td>\n",
       "      <td>Lellè Extra Dry</td>\n",
       "    </tr>\n",
       "  </tbody>\n",
       "</table>\n",
       "</div>"
      ],
      "text/plain": [
       "                                               title          designation\n",
       "5     Mas Fi NV Brut Nature Reserva Sparkling (Cava)  Brut Nature Reserva\n",
       "6  Château Tayet 2014 Cuvée Prestige  (Bordeaux S...       Cuvée Prestige\n",
       "7                                                NaN             Baccante\n",
       "8      Matrix 2013 Pinot Noir (Russian River Valley)                  NaN\n",
       "9                                                NaN      Lellè Extra Dry"
      ]
     },
     "execution_count": 19,
     "metadata": {},
     "output_type": "execute_result"
    }
   ],
   "source": [
    "train_df[['title', 'designation']][5:10]"
   ]
  },
  {
   "cell_type": "code",
   "execution_count": 20,
   "metadata": {},
   "outputs": [],
   "source": [
    "import re"
   ]
  },
  {
   "cell_type": "raw",
   "metadata": {},
   "source": [
    "c = \"Syncline 2016 McKinley Springs Vineyard Rosé (Horse Heaven Hills)\"\n",
    "\n",
    "def extract_title(string):\n",
    "    if type(string) is str:\n",
    "        digit = [int(s) for s in string.split() if s.isdigit()]\n",
    "        if digit:\n",
    "            string_array = string.split()\n",
    "            if len(str(digit[0])) == 4:\n",
    "                try:\n",
    "                    detached_string = re.search(r'[0-9]{4,7}(.*?)\\(', string).group(1).strip()\n",
    "                except:\n",
    "                    detached_string = np.nan\n",
    "                return detached_string\n",
    "    else: return np.nan\n",
    "\n",
    "print(extract_title(c))"
   ]
  },
  {
   "cell_type": "raw",
   "metadata": {},
   "source": [
    "def extract_title(string):\n",
    "    if type(string) is str:\n",
    "        digit = [int(s) for s in string.split() if s.isdigit()]\n",
    "        if digit:\n",
    "            string_array = string.split()\n",
    "            if len(str(digit[0])) == 4:\n",
    "                try:\n",
    "                    detached_string = re.search(r'[0-9]{4,7}(.*?)\\(', string).group(1).strip()\n",
    "                except:\n",
    "                    detached_string = np.nan\n",
    "                return detached_string\n",
    "    else: return np.nan\n",
    "\n",
    "train_df['designation_temp'] = train_df['title'].apply(extract_title)\n",
    "test_df['designation_temp'] = test_df['title'].apply(extract_title)"
   ]
  },
  {
   "cell_type": "raw",
   "metadata": {},
   "source": [
    "train_df['designation'].isnull().sum(), train_df['designation_temp'].isnull().sum()"
   ]
  },
  {
   "cell_type": "raw",
   "metadata": {},
   "source": [
    "train_df.designation.fillna(train_df.designation_temp, inplace=True)\n",
    "test_df.designation.fillna(train_df.designation_temp, inplace=True)\n",
    "# del train_df['designation_temp']\n",
    "# del test_df['designation_temp']\n",
    "\n",
    "#Check number after fillna\n",
    "train_df[\"designation\"].isnull().sum()"
   ]
  },
  {
   "cell_type": "raw",
   "metadata": {},
   "source": [
    "train_df.designation.sort_values().head(20)"
   ]
  },
  {
   "cell_type": "markdown",
   "metadata": {},
   "source": [
    "Missing: **Region 1**"
   ]
  },
  {
   "cell_type": "code",
   "execution_count": 21,
   "metadata": {},
   "outputs": [
    {
     "data": {
      "text/plain": [
       "3977      Abruzzo\n",
       "83431     Abruzzo\n",
       "138977    Abruzzo\n",
       "68540     Abruzzo\n",
       "72489     Abruzzo\n",
       "           ...   \n",
       "174960        NaN\n",
       "174961        NaN\n",
       "174962        NaN\n",
       "174982        NaN\n",
       "174996        NaN\n",
       "Name: region_1, Length: 175000, dtype: object"
      ]
     },
     "execution_count": 21,
     "metadata": {},
     "output_type": "execute_result"
    }
   ],
   "source": [
    "train_df['region_1'].sort_values()"
   ]
  },
  {
   "cell_type": "code",
   "execution_count": 22,
   "metadata": {},
   "outputs": [
    {
     "data": {
      "text/html": [
       "<div>\n",
       "<style scoped>\n",
       "    .dataframe tbody tr th:only-of-type {\n",
       "        vertical-align: middle;\n",
       "    }\n",
       "\n",
       "    .dataframe tbody tr th {\n",
       "        vertical-align: top;\n",
       "    }\n",
       "\n",
       "    .dataframe thead th {\n",
       "        text-align: right;\n",
       "    }\n",
       "</style>\n",
       "<table border=\"1\" class=\"dataframe\">\n",
       "  <thead>\n",
       "    <tr style=\"text-align: right;\">\n",
       "      <th></th>\n",
       "      <th>region_1</th>\n",
       "      <th>title</th>\n",
       "    </tr>\n",
       "  </thead>\n",
       "  <tbody>\n",
       "    <tr>\n",
       "      <th>0</th>\n",
       "      <td>NaN</td>\n",
       "      <td>NaN</td>\n",
       "    </tr>\n",
       "    <tr>\n",
       "      <th>1</th>\n",
       "      <td>Lalande de Pomerol</td>\n",
       "      <td>NaN</td>\n",
       "    </tr>\n",
       "    <tr>\n",
       "      <th>2</th>\n",
       "      <td>Saint-Émilion</td>\n",
       "      <td>NaN</td>\n",
       "    </tr>\n",
       "    <tr>\n",
       "      <th>3</th>\n",
       "      <td>Santa Barbara County</td>\n",
       "      <td>Jaffurs 2010 Thompson Vineyard Petite Sirah (S...</td>\n",
       "    </tr>\n",
       "    <tr>\n",
       "      <th>4</th>\n",
       "      <td>Horse Heaven Hills</td>\n",
       "      <td>Syncline 2016 McKinley Springs Vineyard Rosé (...</td>\n",
       "    </tr>\n",
       "    <tr>\n",
       "      <th>5</th>\n",
       "      <td>Cava</td>\n",
       "      <td>Mas Fi NV Brut Nature Reserva Sparkling (Cava)</td>\n",
       "    </tr>\n",
       "    <tr>\n",
       "      <th>6</th>\n",
       "      <td>Bordeaux Supérieur</td>\n",
       "      <td>Château Tayet 2014 Cuvée Prestige  (Bordeaux S...</td>\n",
       "    </tr>\n",
       "    <tr>\n",
       "      <th>7</th>\n",
       "      <td>Sicilia</td>\n",
       "      <td>NaN</td>\n",
       "    </tr>\n",
       "    <tr>\n",
       "      <th>8</th>\n",
       "      <td>Russian River Valley</td>\n",
       "      <td>Matrix 2013 Pinot Noir (Russian River Valley)</td>\n",
       "    </tr>\n",
       "    <tr>\n",
       "      <th>9</th>\n",
       "      <td>Prosecco</td>\n",
       "      <td>NaN</td>\n",
       "    </tr>\n",
       "  </tbody>\n",
       "</table>\n",
       "</div>"
      ],
      "text/plain": [
       "               region_1                                              title\n",
       "0                   NaN                                                NaN\n",
       "1    Lalande de Pomerol                                                NaN\n",
       "2         Saint-Émilion                                                NaN\n",
       "3  Santa Barbara County  Jaffurs 2010 Thompson Vineyard Petite Sirah (S...\n",
       "4    Horse Heaven Hills  Syncline 2016 McKinley Springs Vineyard Rosé (...\n",
       "5                  Cava     Mas Fi NV Brut Nature Reserva Sparkling (Cava)\n",
       "6    Bordeaux Supérieur  Château Tayet 2014 Cuvée Prestige  (Bordeaux S...\n",
       "7               Sicilia                                                NaN\n",
       "8  Russian River Valley      Matrix 2013 Pinot Noir (Russian River Valley)\n",
       "9              Prosecco                                                NaN"
      ]
     },
     "execution_count": 22,
     "metadata": {},
     "output_type": "execute_result"
    }
   ],
   "source": [
    "train_df[['region_1', 'title']].head(10)"
   ]
  },
  {
   "cell_type": "code",
   "execution_count": 23,
   "metadata": {},
   "outputs": [
    {
     "data": {
      "text/plain": [
       "(98630, 47185)"
      ]
     },
     "execution_count": 23,
     "metadata": {},
     "output_type": "execute_result"
    }
   ],
   "source": [
    "# Extract region from title\n",
    "def get_regions(string):\n",
    "    if type(string) is str:\n",
    "        try:\n",
    "            detached_string = re.search(r'\\((.*?)\\)', string).group(1).strip()\n",
    "            return detached_string\n",
    "        except:\n",
    "            return np.nan\n",
    "    else: return np.nan\n",
    "train_df[\"new_region1\"]= train_df[\"title\"].apply(get_regions)\n",
    "test_df[\"new_region1\"]= test_df[\"title\"].apply(get_regions)\n",
    "\n",
    "train_df[\"new_region1\"].isna().sum(), test_df[\"new_region1\"].isna().sum()"
   ]
  },
  {
   "cell_type": "code",
   "execution_count": 24,
   "metadata": {},
   "outputs": [
    {
     "data": {
      "text/plain": [
       "(28534, 98630)"
      ]
     },
     "execution_count": 24,
     "metadata": {},
     "output_type": "execute_result"
    }
   ],
   "source": [
    "# Check current number of NA values\n",
    "train_df[\"region_1\"].isna().sum(), train_df[\"new_region1\"].isna().sum()"
   ]
  },
  {
   "cell_type": "code",
   "execution_count": 25,
   "metadata": {},
   "outputs": [
    {
     "data": {
      "text/plain": [
       "15615"
      ]
     },
     "execution_count": 25,
     "metadata": {},
     "output_type": "execute_result"
    }
   ],
   "source": [
    "train_df.region_1.fillna(train_df.new_region1, inplace=True)\n",
    "test_df.region_1.fillna(test_df.new_region1, inplace=True)\n",
    "del train_df['new_region1']\n",
    "del test_df['new_region1']\n",
    "\n",
    "#Check number after fillna\n",
    "train_df[\"region_1\"].isna().sum()"
   ]
  },
  {
   "cell_type": "code",
   "execution_count": 26,
   "metadata": {},
   "outputs": [
    {
     "data": {
      "text/plain": [
       "25966     Abruzzo\n",
       "169633    Abruzzo\n",
       "147615    Abruzzo\n",
       "30915     Abruzzo\n",
       "95298     Abruzzo\n",
       "           ...   \n",
       "174913        NaN\n",
       "174921        NaN\n",
       "174945        NaN\n",
       "174961        NaN\n",
       "174962        NaN\n",
       "Name: region_1, Length: 175000, dtype: object"
      ]
     },
     "execution_count": 26,
     "metadata": {},
     "output_type": "execute_result"
    }
   ],
   "source": [
    "train_df['region_1'].sort_values()"
   ]
  },
  {
   "cell_type": "markdown",
   "metadata": {},
   "source": [
    "### Feature Engineering"
   ]
  },
  {
   "cell_type": "code",
   "execution_count": 27,
   "metadata": {},
   "outputs": [],
   "source": [
    "# !pip install category_encoders\n",
    "import category_encoders as ce"
   ]
  },
  {
   "cell_type": "markdown",
   "metadata": {},
   "source": [
    "### Points"
   ]
  },
  {
   "cell_type": "markdown",
   "metadata": {},
   "source": [
    "Source: https://towardsdatascience.com/wine-ratings-prediction-using-machine-learning-ce259832b321  \n",
    "https://towardsdatascience.com/predicting-wine-quality-using-text-reviews-8bddaeb5285d  \n",
    "Range of Points is 79 to 101  \n",
    "1 -> Points 80 to 82 (Acceptable wines)  \n",
    "2 -> Points 83 to 86 (Good wines)  \n",
    "3 -> Points 87 to 89 (Very Good wines)  \n",
    "4 -> Points 90 to 93 (Excellent wines)  \n",
    "5 -> Points 94 to 101 (Superb wines)  "
   ]
  },
  {
   "cell_type": "code",
   "execution_count": 28,
   "metadata": {},
   "outputs": [],
   "source": [
    "def choose_points(point):\n",
    "    if   point >= 94: return 5\n",
    "    elif point >= 90: return 4\n",
    "    elif point >= 87: return 3\n",
    "    elif point >= 83: return 2\n",
    "    else: return 1\n",
    "\n",
    "train_df['ratings'] = train_df['points'].apply(choose_points)\n",
    "test_df['ratings'] = test_df['points'].apply(choose_points)\n",
    "\n",
    "train_df.drop(columns=['points'], inplace=True)\n",
    "test_df.drop(columns=['points'], inplace=True)"
   ]
  },
  {
   "cell_type": "code",
   "execution_count": 29,
   "metadata": {},
   "outputs": [
    {
     "data": {
      "text/html": [
       "<div>\n",
       "<style scoped>\n",
       "    .dataframe tbody tr th:only-of-type {\n",
       "        vertical-align: middle;\n",
       "    }\n",
       "\n",
       "    .dataframe tbody tr th {\n",
       "        vertical-align: top;\n",
       "    }\n",
       "\n",
       "    .dataframe thead th {\n",
       "        text-align: right;\n",
       "    }\n",
       "</style>\n",
       "<table border=\"1\" class=\"dataframe\">\n",
       "  <thead>\n",
       "    <tr style=\"text-align: right;\">\n",
       "      <th></th>\n",
       "      <th>ratings</th>\n",
       "      <th>price_trans</th>\n",
       "    </tr>\n",
       "  </thead>\n",
       "  <tbody>\n",
       "    <tr>\n",
       "      <th>ratings</th>\n",
       "      <td>1.000000</td>\n",
       "      <td>0.576063</td>\n",
       "    </tr>\n",
       "    <tr>\n",
       "      <th>price_trans</th>\n",
       "      <td>0.576063</td>\n",
       "      <td>1.000000</td>\n",
       "    </tr>\n",
       "  </tbody>\n",
       "</table>\n",
       "</div>"
      ],
      "text/plain": [
       "              ratings  price_trans\n",
       "ratings      1.000000     0.576063\n",
       "price_trans  0.576063     1.000000"
      ]
     },
     "execution_count": 29,
     "metadata": {},
     "output_type": "execute_result"
    }
   ],
   "source": [
    "train_df[['ratings', 'price_trans']].corr()"
   ]
  },
  {
   "cell_type": "code",
   "execution_count": 30,
   "metadata": {},
   "outputs": [
    {
     "data": {
      "text/plain": [
       "<matplotlib.axes._subplots.AxesSubplot at 0x7f80873e1860>"
      ]
     },
     "execution_count": 30,
     "metadata": {},
     "output_type": "execute_result"
    },
    {
     "data": {
      "image/png": "[encoded data removed]",
      "text/plain": [
       "<Figure size 432x288 with 1 Axes>"
      ]
     },
     "metadata": {
      "needs_background": "light"
     },
     "output_type": "display_data"
    }
   ],
   "source": [
    "train_df['ratings'].value_counts().to_frame().plot(kind='bar')"
   ]
  },
  {
   "cell_type": "markdown",
   "metadata": {},
   "source": [
    "Observation: Imbalanced data cos some ratings have low data"
   ]
  },
  {
   "cell_type": "markdown",
   "metadata": {},
   "source": [
    "### Countries"
   ]
  },
  {
   "cell_type": "code",
   "execution_count": 31,
   "metadata": {},
   "outputs": [
    {
     "data": {
      "text/html": [
       "<div>\n",
       "<style scoped>\n",
       "    .dataframe tbody tr th:only-of-type {\n",
       "        vertical-align: middle;\n",
       "    }\n",
       "\n",
       "    .dataframe tbody tr th {\n",
       "        vertical-align: top;\n",
       "    }\n",
       "\n",
       "    .dataframe thead th {\n",
       "        text-align: right;\n",
       "    }\n",
       "</style>\n",
       "<table border=\"1\" class=\"dataframe\">\n",
       "  <thead>\n",
       "    <tr style=\"text-align: right;\">\n",
       "      <th></th>\n",
       "      <th>Region</th>\n",
       "    </tr>\n",
       "    <tr>\n",
       "      <th>Country/Territory</th>\n",
       "      <th></th>\n",
       "    </tr>\n",
       "  </thead>\n",
       "  <tbody>\n",
       "    <tr>\n",
       "      <th>Tonga</th>\n",
       "      <td>Polynesia</td>\n",
       "    </tr>\n",
       "    <tr>\n",
       "      <th>Tuvalu</th>\n",
       "      <td>Polynesia</td>\n",
       "    </tr>\n",
       "    <tr>\n",
       "      <th>Wallis and Futuna Islands</th>\n",
       "      <td>Polynesia</td>\n",
       "    </tr>\n",
       "    <tr>\n",
       "      <th>None</th>\n",
       "      <td>None</td>\n",
       "    </tr>\n",
       "    <tr>\n",
       "      <th>US-France</th>\n",
       "      <td>Western Europe</td>\n",
       "    </tr>\n",
       "  </tbody>\n",
       "</table>\n",
       "</div>"
      ],
      "text/plain": [
       "                                   Region\n",
       "Country/Territory                        \n",
       "Tonga                           Polynesia\n",
       "Tuvalu                          Polynesia\n",
       "Wallis and Futuna Islands       Polynesia\n",
       "None                                 None\n",
       "US-France                  Western Europe"
      ]
     },
     "execution_count": 31,
     "metadata": {},
     "output_type": "execute_result"
    }
   ],
   "source": [
    "# Data Source from Statistics Times\n",
    "# df_countries = pd.read_html('http://statisticstimes.com/geography/countries-by-continents.php')\n",
    "\n",
    "# convert countries into regions\n",
    "# country_region = pd.concat([df_countries[i] for i in np.arange(2, 8)])\n",
    "\n",
    "# country_region.to_csv('country_region')\n",
    "country_region = pd.read_csv('country_region.csv', index_col='Country/Territory' )\n",
    "country_region.tail()"
   ]
  },
  {
   "cell_type": "code",
   "execution_count": 32,
   "metadata": {},
   "outputs": [],
   "source": [
    "def region(country):\n",
    "    return country_region.loc[country]['Region']\n",
    "\n",
    "train_df['country'].fillna(value='None', inplace=True)\n",
    "test_df['country'].fillna(value='None', inplace=True)\n",
    "\n",
    "train_df['country_region'] = train_df['country'].map(region)\n",
    "test_df['country_region'] = test_df['country'].map(region)\n",
    "\n",
    "train_df.drop(columns=['country'], inplace=True)\n",
    "test_df.drop(columns=['country'], inplace=True)"
   ]
  },
  {
   "cell_type": "code",
   "execution_count": 33,
   "metadata": {},
   "outputs": [
    {
     "data": {
      "text/plain": [
       "174995    Northern America\n",
       "174996     Southern Europe\n",
       "174997     Southern Europe\n",
       "174998    Northern America\n",
       "174999    Northern America\n",
       "Name: country_region, dtype: object"
      ]
     },
     "execution_count": 33,
     "metadata": {},
     "output_type": "execute_result"
    }
   ],
   "source": [
    "train_df['country_region'].tail()"
   ]
  },
  {
   "cell_type": "code",
   "execution_count": 34,
   "metadata": {},
   "outputs": [
    {
     "data": {
      "text/plain": [
       "Northern America             79437\n",
       "Southern Europe              41408\n",
       "Western Europe               28533\n",
       "South America                13408\n",
       "Australia and New Zealand     7886\n",
       "Southern Africa               2405\n",
       "Western Asia                   994\n",
       "Eastern Europe                 687\n",
       "Central America                 86\n",
       "Northern Europe                 59\n",
       "None                            47\n",
       "Northern Africa                 30\n",
       "Southern Asia                   14\n",
       "Eastern Asia                     6\n",
       "Name: country_region, dtype: int64"
      ]
     },
     "execution_count": 34,
     "metadata": {},
     "output_type": "execute_result"
    }
   ],
   "source": [
    "train_df['country_region'].value_counts()"
   ]
  },
  {
   "cell_type": "code",
   "execution_count": 35,
   "metadata": {},
   "outputs": [],
   "source": [
    "price_per_region = train_df.groupby('country_region').mean()['price'].to_frame().reset_index()"
   ]
  },
  {
   "cell_type": "code",
   "execution_count": 36,
   "metadata": {},
   "outputs": [
    {
     "data": {
      "text/plain": [
       "Text(0, 0.5, 'Price')"
      ]
     },
     "execution_count": 36,
     "metadata": {},
     "output_type": "execute_result"
    },
    {
     "data": {
      "image/png": "[encoded data removed]",
      "text/plain": [
       "<Figure size 1440x432 with 1 Axes>"
      ]
     },
     "metadata": {
      "needs_background": "light"
     },
     "output_type": "display_data"
    }
   ],
   "source": [
    "fig = plt.figure(figsize=(20,6))\n",
    "ax = fig.add_axes([0, 0, 1, 1])\n",
    "\n",
    "sns.barplot(\"country_region\", \"price\", data=price_per_region, ax=ax)\n",
    "\n",
    "ax.set_xlabel('Region')\n",
    "ax.set_ylabel('Price')\n"
   ]
  },
  {
   "cell_type": "markdown",
   "metadata": {},
   "source": [
    "Observation: On average, Northern europe and Western wines are more expensive"
   ]
  },
  {
   "cell_type": "markdown",
   "metadata": {},
   "source": [
    "### Tasters"
   ]
  },
  {
   "cell_type": "code",
   "execution_count": 37,
   "metadata": {},
   "outputs": [
    {
     "data": {
      "text/plain": [
       "Text(0, 0.5, 'Ratings')"
      ]
     },
     "execution_count": 37,
     "metadata": {},
     "output_type": "execute_result"
    },
    {
     "data": {
      "image/png": "[encoded data removed]",
      "text/plain": [
       "<Figure size 1440x432 with 1 Axes>"
      ]
     },
     "metadata": {
      "needs_background": "light"
     },
     "output_type": "display_data"
    }
   ],
   "source": [
    "tasters = train_df.groupby('taster_name').mean()['ratings'].to_frame().reset_index()\n",
    "\n",
    "fig = plt.figure(figsize=(20,6))\n",
    "ax = fig.add_axes([0, 0, 1, 1])\n",
    "\n",
    "sns.barplot(\"taster_name\", \"ratings\", data=tasters, ax=ax)\n",
    "\n",
    "ax.set_xlabel('Tasters')\n",
    "ax.set_ylabel('Ratings')"
   ]
  },
  {
   "cell_type": "markdown",
   "metadata": {},
   "source": [
    "Observation: Not much bias in their ratings"
   ]
  },
  {
   "cell_type": "markdown",
   "metadata": {},
   "source": [
    "### Twitter Handle"
   ]
  },
  {
   "cell_type": "code",
   "execution_count": 38,
   "metadata": {},
   "outputs": [],
   "source": [
    "# Create column to check if user has twitter handle\n",
    "train_df['has_twit_handle'] = train_df['taster_twitter_handle'].notnull()\n",
    "test_df['has_twit_handle'] = test_df['taster_twitter_handle'].notnull()\n",
    "\n",
    "# Convert bool to numeric\n",
    "train_df['has_twit_handle'] = train_df['has_twit_handle'].astype(int)\n",
    "test_df['has_twit_handle'] = test_df['has_twit_handle'].astype(int)"
   ]
  },
  {
   "cell_type": "code",
   "execution_count": 39,
   "metadata": {},
   "outputs": [],
   "source": [
    "# Drop twitter handle column\n",
    "train_df.drop(columns=[\"taster_twitter_handle\"], inplace=True)\n",
    "test_df.drop(columns=[\"taster_twitter_handle\"], inplace=True)"
   ]
  },
  {
   "cell_type": "code",
   "execution_count": 40,
   "metadata": {},
   "outputs": [
    {
     "data": {
      "text/plain": [
       "0    0\n",
       "1    0\n",
       "2    0\n",
       "3    0\n",
       "4    1\n",
       "Name: has_twit_handle, dtype: int64"
      ]
     },
     "execution_count": 40,
     "metadata": {},
     "output_type": "execute_result"
    }
   ],
   "source": [
    "train_df['has_twit_handle'].head()"
   ]
  },
  {
   "cell_type": "markdown",
   "metadata": {},
   "source": [
    "### Title"
   ]
  },
  {
   "cell_type": "code",
   "execution_count": 41,
   "metadata": {},
   "outputs": [],
   "source": [
    "# Extract year from title\n",
    "train_df['title'].fillna(value='None', inplace=True)\n",
    "\n",
    "def extract_year(string):\n",
    "    if type(string) is str:\n",
    "        digit = [int(s) for s in string.split() if s.isdigit()]\n",
    "        if digit:\n",
    "            return digit[0]\n",
    "        else: return 0\n",
    "    return 0\n",
    "\n",
    "train_df['title_year'] = train_df['title'].apply(extract_year)\n",
    "test_df['title_year'] = test_df['title'].apply(extract_year)"
   ]
  },
  {
   "cell_type": "code",
   "execution_count": 42,
   "metadata": {},
   "outputs": [
    {
     "data": {
      "text/plain": [
       "0       0\n",
       "1       0\n",
       "2       0\n",
       "3    2010\n",
       "4    2016\n",
       "Name: title_year, dtype: int64"
      ]
     },
     "execution_count": 42,
     "metadata": {},
     "output_type": "execute_result"
    }
   ],
   "source": [
    "train_df['title_year'].head()"
   ]
  },
  {
   "cell_type": "markdown",
   "metadata": {},
   "source": [
    "### Encoding"
   ]
  },
  {
   "cell_type": "code",
   "execution_count": 43,
   "metadata": {},
   "outputs": [
    {
     "data": {
      "text/plain": [
       "TargetEncoder(cols=['designation', 'province', 'region_1', 'region_2', 'taster_name', 'title', 'variety', 'winery', 'country_region'],\n",
       "       drop_invariant=False, handle_missing='value',\n",
       "       handle_unknown='value', min_samples_leaf=1, return_df=True,\n",
       "       smoothing=1.0, verbose=0)"
      ]
     },
     "execution_count": 43,
     "metadata": {},
     "output_type": "execute_result"
    }
   ],
   "source": [
    "# https://towardsdatascience.com/all-about-categorical-variable-encoding-305f3361fd02\n",
    "target_df = train_df['price_trans']\n",
    "train_df.drop(columns=['price', 'price_trans'], inplace=True)\n",
    "\n",
    "encoder = ce.TargetEncoder(cols=['designation', 'province',\n",
    "        'region_1', 'region_2', 'taster_name', 'title',\n",
    "        'variety', 'winery', 'country_region'])\n",
    "encoder.fit(train_df, target_df)"
   ]
  },
  {
   "cell_type": "code",
   "execution_count": 44,
   "metadata": {},
   "outputs": [],
   "source": [
    "train_df_encoded = encoder.transform(train_df)\n",
    "test_df_encoded = encoder.transform(test_df)"
   ]
  },
  {
   "cell_type": "code",
   "execution_count": 45,
   "metadata": {},
   "outputs": [
    {
     "data": {
      "text/html": [
       "<div>\n",
       "<style scoped>\n",
       "    .dataframe tbody tr th:only-of-type {\n",
       "        vertical-align: middle;\n",
       "    }\n",
       "\n",
       "    .dataframe tbody tr th {\n",
       "        vertical-align: top;\n",
       "    }\n",
       "\n",
       "    .dataframe thead th {\n",
       "        text-align: right;\n",
       "    }\n",
       "</style>\n",
       "<table border=\"1\" class=\"dataframe\">\n",
       "  <thead>\n",
       "    <tr style=\"text-align: right;\">\n",
       "      <th></th>\n",
       "      <th>0</th>\n",
       "      <th>1</th>\n",
       "      <th>2</th>\n",
       "      <th>3</th>\n",
       "      <th>4</th>\n",
       "    </tr>\n",
       "  </thead>\n",
       "  <tbody>\n",
       "    <tr>\n",
       "      <th>description</th>\n",
       "      <td>This is a fine rich balanced wine. It has ripe...</td>\n",
       "      <td>A solid, chunky wine, with a structure that is...</td>\n",
       "      <td>This is powerful and concentrated, with the hi...</td>\n",
       "      <td>Rich, ripe and oaky, this Petite Sirah charms ...</td>\n",
       "      <td>This wine is a unique in the state blend and f...</td>\n",
       "    </tr>\n",
       "    <tr>\n",
       "      <th>designation</th>\n",
       "      <td>2.99643</td>\n",
       "      <td>3.10212</td>\n",
       "      <td>3.10212</td>\n",
       "      <td>3.58049</td>\n",
       "      <td>3.34274</td>\n",
       "    </tr>\n",
       "    <tr>\n",
       "      <th>province</th>\n",
       "      <td>2.89577</td>\n",
       "      <td>3.23206</td>\n",
       "      <td>3.23206</td>\n",
       "      <td>3.4275</td>\n",
       "      <td>3.29462</td>\n",
       "    </tr>\n",
       "    <tr>\n",
       "      <th>region_1</th>\n",
       "      <td>3.0063</td>\n",
       "      <td>3.40374</td>\n",
       "      <td>3.91734</td>\n",
       "      <td>3.30079</td>\n",
       "      <td>3.33243</td>\n",
       "    </tr>\n",
       "    <tr>\n",
       "      <th>region_2</th>\n",
       "      <td>3.19865</td>\n",
       "      <td>3.19865</td>\n",
       "      <td>3.19865</td>\n",
       "      <td>3.39592</td>\n",
       "      <td>3.30939</td>\n",
       "    </tr>\n",
       "    <tr>\n",
       "      <th>taster_name</th>\n",
       "      <td>3.26829</td>\n",
       "      <td>3.26829</td>\n",
       "      <td>3.26829</td>\n",
       "      <td>3.26829</td>\n",
       "      <td>3.38325</td>\n",
       "    </tr>\n",
       "    <tr>\n",
       "      <th>title</th>\n",
       "      <td>3.24726</td>\n",
       "      <td>3.24726</td>\n",
       "      <td>3.24726</td>\n",
       "      <td>3.27949</td>\n",
       "      <td>3.20533</td>\n",
       "    </tr>\n",
       "    <tr>\n",
       "      <th>variety</th>\n",
       "      <td>2.93614</td>\n",
       "      <td>3.53812</td>\n",
       "      <td>3.53812</td>\n",
       "      <td>3.31852</td>\n",
       "      <td>2.80789</td>\n",
       "    </tr>\n",
       "    <tr>\n",
       "      <th>winery</th>\n",
       "      <td>2.74623</td>\n",
       "      <td>3.31803</td>\n",
       "      <td>4.80129</td>\n",
       "      <td>3.5944</td>\n",
       "      <td>3.29883</td>\n",
       "    </tr>\n",
       "    <tr>\n",
       "      <th>ratings</th>\n",
       "      <td>3</td>\n",
       "      <td>3</td>\n",
       "      <td>5</td>\n",
       "      <td>3</td>\n",
       "      <td>3</td>\n",
       "    </tr>\n",
       "    <tr>\n",
       "      <th>country_region</th>\n",
       "      <td>3.22495</td>\n",
       "      <td>3.3618</td>\n",
       "      <td>3.3618</td>\n",
       "      <td>3.38169</td>\n",
       "      <td>3.38169</td>\n",
       "    </tr>\n",
       "    <tr>\n",
       "      <th>has_twit_handle</th>\n",
       "      <td>0</td>\n",
       "      <td>0</td>\n",
       "      <td>0</td>\n",
       "      <td>0</td>\n",
       "      <td>1</td>\n",
       "    </tr>\n",
       "    <tr>\n",
       "      <th>title_year</th>\n",
       "      <td>0</td>\n",
       "      <td>0</td>\n",
       "      <td>0</td>\n",
       "      <td>2010</td>\n",
       "      <td>2016</td>\n",
       "    </tr>\n",
       "  </tbody>\n",
       "</table>\n",
       "</div>"
      ],
      "text/plain": [
       "                                                                 0  \\\n",
       "description      This is a fine rich balanced wine. It has ripe...   \n",
       "designation                                                2.99643   \n",
       "province                                                   2.89577   \n",
       "region_1                                                    3.0063   \n",
       "region_2                                                   3.19865   \n",
       "taster_name                                                3.26829   \n",
       "title                                                      3.24726   \n",
       "variety                                                    2.93614   \n",
       "winery                                                     2.74623   \n",
       "ratings                                                          3   \n",
       "country_region                                             3.22495   \n",
       "has_twit_handle                                                  0   \n",
       "title_year                                                       0   \n",
       "\n",
       "                                                                 1  \\\n",
       "description      A solid, chunky wine, with a structure that is...   \n",
       "designation                                                3.10212   \n",
       "province                                                   3.23206   \n",
       "region_1                                                   3.40374   \n",
       "region_2                                                   3.19865   \n",
       "taster_name                                                3.26829   \n",
       "title                                                      3.24726   \n",
       "variety                                                    3.53812   \n",
       "winery                                                     3.31803   \n",
       "ratings                                                          3   \n",
       "country_region                                              3.3618   \n",
       "has_twit_handle                                                  0   \n",
       "title_year                                                       0   \n",
       "\n",
       "                                                                 2  \\\n",
       "description      This is powerful and concentrated, with the hi...   \n",
       "designation                                                3.10212   \n",
       "province                                                   3.23206   \n",
       "region_1                                                   3.91734   \n",
       "region_2                                                   3.19865   \n",
       "taster_name                                                3.26829   \n",
       "title                                                      3.24726   \n",
       "variety                                                    3.53812   \n",
       "winery                                                     4.80129   \n",
       "ratings                                                          5   \n",
       "country_region                                              3.3618   \n",
       "has_twit_handle                                                  0   \n",
       "title_year                                                       0   \n",
       "\n",
       "                                                                 3  \\\n",
       "description      Rich, ripe and oaky, this Petite Sirah charms ...   \n",
       "designation                                                3.58049   \n",
       "province                                                    3.4275   \n",
       "region_1                                                   3.30079   \n",
       "region_2                                                   3.39592   \n",
       "taster_name                                                3.26829   \n",
       "title                                                      3.27949   \n",
       "variety                                                    3.31852   \n",
       "winery                                                      3.5944   \n",
       "ratings                                                          3   \n",
       "country_region                                             3.38169   \n",
       "has_twit_handle                                                  0   \n",
       "title_year                                                    2010   \n",
       "\n",
       "                                                                 4  \n",
       "description      This wine is a unique in the state blend and f...  \n",
       "designation                                                3.34274  \n",
       "province                                                   3.29462  \n",
       "region_1                                                   3.33243  \n",
       "region_2                                                   3.30939  \n",
       "taster_name                                                3.38325  \n",
       "title                                                      3.20533  \n",
       "variety                                                    2.80789  \n",
       "winery                                                     3.29883  \n",
       "ratings                                                          3  \n",
       "country_region                                             3.38169  \n",
       "has_twit_handle                                                  1  \n",
       "title_year                                                    2016  "
      ]
     },
     "execution_count": 45,
     "metadata": {},
     "output_type": "execute_result"
    }
   ],
   "source": [
    "train_df_encoded.head().T"
   ]
  },
  {
   "cell_type": "code",
   "execution_count": 46,
   "metadata": {},
   "outputs": [
    {
     "data": {
      "text/plain": [
       "<matplotlib.axes._subplots.AxesSubplot at 0x7f80875bd828>"
      ]
     },
     "execution_count": 46,
     "metadata": {},
     "output_type": "execute_result"
    },
    {
     "data": {
      "image/png": "[encoded data removed]",
      "text/plain": [
       "<Figure size 432x288 with 2 Axes>"
      ]
     },
     "metadata": {
      "needs_background": "light"
     },
     "output_type": "display_data"
    }
   ],
   "source": [
    "sns.heatmap(train_df_encoded.corr())"
   ]
  },
  {
   "cell_type": "code",
   "execution_count": 47,
   "metadata": {},
   "outputs": [],
   "source": [
    "# Find number of words in each description. Naive\n",
    "train_df_encoded['no_of_words'] = train_df_encoded['description'].apply(lambda x: len(x.split()))\n",
    "test_df_encoded['no_of_words'] = test_df_encoded['description'].apply(lambda x: len(x.split()))"
   ]
  },
  {
   "cell_type": "markdown",
   "metadata": {},
   "source": [
    "### Create Polynomial Interactions"
   ]
  },
  {
   "cell_type": "code",
   "execution_count": 48,
   "metadata": {},
   "outputs": [
    {
     "data": {
      "text/plain": [
       "Index(['designation', 'province', 'region_1', 'region_2', 'taster_name',\n",
       "       'title', 'variety', 'winery', 'ratings', 'country_region',\n",
       "       'has_twit_handle', 'title_year', 'no_of_words'],\n",
       "      dtype='object')"
      ]
     },
     "execution_count": 48,
     "metadata": {},
     "output_type": "execute_result"
    }
   ],
   "source": [
    "train_df_num = train_df_encoded.select_dtypes(include = [np.number])\n",
    "train_df_num.columns"
   ]
  },
  {
   "cell_type": "code",
   "execution_count": 49,
   "metadata": {},
   "outputs": [],
   "source": [
    "# Create feature interactions among numerical variables\n",
    "num_col_len = len(train_df_num.columns)\n",
    "for i in range(num_col_len-1):\n",
    "    col1 = train_df_num.columns[i]\n",
    "    for j in range(i+1, num_col_len):\n",
    "        col2 = train_df_num.columns[j]\n",
    "        train_df_encoded[f\"{col1}_{col2}\"] = train_df_encoded[col1]*train_df_encoded[col2]\n",
    "        test_df_encoded[f\"{col1}_{col2}\"] = test_df_encoded[col1]*test_df_encoded[col2]"
   ]
  },
  {
   "cell_type": "code",
   "execution_count": 50,
   "metadata": {},
   "outputs": [
    {
     "data": {
      "text/plain": [
       "Index(['description', 'designation', 'province', 'region_1', 'region_2',\n",
       "       'taster_name', 'title', 'variety', 'winery', 'ratings',\n",
       "       'country_region', 'has_twit_handle', 'title_year', 'no_of_words',\n",
       "       'designation_province', 'designation_region_1', 'designation_region_2',\n",
       "       'designation_taster_name', 'designation_title', 'designation_variety',\n",
       "       'designation_winery', 'designation_ratings',\n",
       "       'designation_country_region', 'designation_has_twit_handle',\n",
       "       'designation_title_year', 'designation_no_of_words',\n",
       "       'province_region_1', 'province_region_2', 'province_taster_name',\n",
       "       'province_title', 'province_variety', 'province_winery',\n",
       "       'province_ratings', 'province_country_region',\n",
       "       'province_has_twit_handle', 'province_title_year',\n",
       "       'province_no_of_words', 'region_1_region_2', 'region_1_taster_name',\n",
       "       'region_1_title', 'region_1_variety', 'region_1_winery',\n",
       "       'region_1_ratings', 'region_1_country_region',\n",
       "       'region_1_has_twit_handle', 'region_1_title_year',\n",
       "       'region_1_no_of_words', 'region_2_taster_name', 'region_2_title',\n",
       "       'region_2_variety', 'region_2_winery', 'region_2_ratings',\n",
       "       'region_2_country_region', 'region_2_has_twit_handle',\n",
       "       'region_2_title_year', 'region_2_no_of_words', 'taster_name_title',\n",
       "       'taster_name_variety', 'taster_name_winery', 'taster_name_ratings',\n",
       "       'taster_name_country_region', 'taster_name_has_twit_handle',\n",
       "       'taster_name_title_year', 'taster_name_no_of_words', 'title_variety',\n",
       "       'title_winery', 'title_ratings', 'title_country_region',\n",
       "       'title_has_twit_handle', 'title_title_year', 'title_no_of_words',\n",
       "       'variety_winery', 'variety_ratings', 'variety_country_region',\n",
       "       'variety_has_twit_handle', 'variety_title_year', 'variety_no_of_words',\n",
       "       'winery_ratings', 'winery_country_region', 'winery_has_twit_handle',\n",
       "       'winery_title_year', 'winery_no_of_words', 'ratings_country_region',\n",
       "       'ratings_has_twit_handle', 'ratings_title_year', 'ratings_no_of_words',\n",
       "       'country_region_has_twit_handle', 'country_region_title_year',\n",
       "       'country_region_no_of_words', 'has_twit_handle_title_year',\n",
       "       'has_twit_handle_no_of_words', 'title_year_no_of_words'],\n",
       "      dtype='object')"
      ]
     },
     "execution_count": 50,
     "metadata": {},
     "output_type": "execute_result"
    }
   ],
   "source": [
    "train_df_encoded.columns"
   ]
  },
  {
   "cell_type": "markdown",
   "metadata": {},
   "source": [
    "### Description"
   ]
  },
  {
   "cell_type": "code",
   "execution_count": 51,
   "metadata": {},
   "outputs": [],
   "source": [
    "from sklearn.feature_extraction import text"
   ]
  },
  {
   "cell_type": "code",
   "execution_count": 52,
   "metadata": {},
   "outputs": [
    {
     "data": {
      "text/plain": [
       "0    This is a fine rich balanced wine. It has ripe...\n",
       "1    A solid, chunky wine, with a structure that is...\n",
       "2    This is powerful and concentrated, with the hi...\n",
       "3    Rich, ripe and oaky, this Petite Sirah charms ...\n",
       "4    This wine is a unique in the state blend and f...\n",
       "Name: description, dtype: object"
      ]
     },
     "execution_count": 52,
     "metadata": {},
     "output_type": "execute_result"
    }
   ],
   "source": [
    "train_df['description'].head()"
   ]
  },
  {
   "cell_type": "code",
   "execution_count": 53,
   "metadata": {},
   "outputs": [],
   "source": [
    "# Find most frequently occuring words and their count or percentage\n",
    "from nltk.tokenize.treebank import TreebankWordDetokenizer\n",
    "from nltk.corpus import stopwords\n",
    "from nltk import word_tokenize\n",
    "\n",
    "# set seaborn style \n",
    "sns.set(style=\"whitegrid\")\n",
    "\n",
    "stopwords = set(stopwords.words('english'))\n",
    "# Detokenizer combines tokenized elements\n",
    "detokenizer = TreebankWordDetokenizer()"
   ]
  },
  {
   "cell_type": "code",
   "execution_count": 54,
   "metadata": {},
   "outputs": [
    {
     "data": {
      "image/png": "[encoded data removed]",
      "text/plain": [
       "<Figure size 432x288 with 1 Axes>"
      ]
     },
     "metadata": {},
     "output_type": "display_data"
    },
    {
     "data": {
      "text/plain": [
       "<wordcloud.wordcloud.WordCloud at 0x7f807dd35588>"
      ]
     },
     "execution_count": 54,
     "metadata": {},
     "output_type": "execute_result"
    }
   ],
   "source": [
    "# Word cloud\n",
    "from os import path\n",
    "from PIL import Image\n",
    "from wordcloud import WordCloud, STOPWORDS, ImageColorGenerator\n",
    "\n",
    "text = \" \".join(desc for desc in train_df.description)\n",
    "\n",
    "# Create and generate a word cloud image:\n",
    "wordcloud = WordCloud(max_font_size=50, \n",
    "                      max_words=100, \n",
    "                      background_color=\"white\",\n",
    "                      stopwords=stopwords\n",
    "                     ).generate(text)\n",
    "\n",
    "# Display the generated image:\n",
    "plt.imshow(wordcloud, interpolation='bilinear')\n",
    "plt.axis(\"off\")\n",
    "plt.show()\n",
    "\n",
    "# Save the image in the img folder:\n",
    "wordcloud.to_file(\"first_review.png\")"
   ]
  },
  {
   "cell_type": "code",
   "execution_count": 55,
   "metadata": {},
   "outputs": [
    {
     "data": {
      "text/plain": [
       "Text(0.5, 1.0, '% Occurrence of Most Frequent Words')"
      ]
     },
     "execution_count": 55,
     "metadata": {},
     "output_type": "execute_result"
    },
    {
     "data": {
      "image/png": "[encoded data removed]",
      "text/plain": [
       "<Figure size 432x288 with 1 Axes>"
      ]
     },
     "metadata": {},
     "output_type": "display_data"
    }
   ],
   "source": [
    "def clean_description(desc):\n",
    "    desc = word_tokenize(desc.lower())\n",
    "    desc = [token for token in desc if token not in stopwords and token.isalpha()]\n",
    "    return detokenizer.detokenize(desc)\n",
    "\n",
    "cleaned_description = train_df[\"description\"].apply(clean_description)\n",
    "\n",
    "word_occurrence = cleaned_description.str.split(expand=True).stack().value_counts()\n",
    "\n",
    "total_words = sum(word_occurrence)\n",
    "\n",
    "# plot most common words \n",
    "\n",
    "top_words = word_occurrence[:30]/total_words\n",
    "\n",
    "ax = sns.barplot(x = top_words.values, y = top_words.index)\n",
    "\n",
    "# Setting title \n",
    "ax.set_title(\"% Occurrence of Most Frequent Words\")"
   ]
  },
  {
   "cell_type": "markdown",
   "metadata": {},
   "source": [
    "Observation: Wine and flavors are the most occuring words in the corpus of description"
   ]
  },
  {
   "cell_type": "code",
   "execution_count": 56,
   "metadata": {},
   "outputs": [],
   "source": [
    "import string\n",
    "from nltk.tokenize import sent_tokenize, word_tokenize\n",
    "def tokenize(text):\n",
    "    \"\"\"\n",
    "    sent_tokenize(): segment text into sentences\n",
    "    word_tokenize(): break sentences into words\n",
    "    \"\"\"\n",
    "    try: \n",
    "        regex = re.compile('[' +re.escape(string.punctuation) + '0-9\\\\r\\\\t\\\\n]')\n",
    "        text = regex.sub(\" \", text) # remove punctuation\n",
    "        \n",
    "        tokens_ = [word_tokenize(s) for s in sent_tokenize(text)]\n",
    "        tokens = []\n",
    "        for token_by_sent in tokens_:\n",
    "            tokens += token_by_sent\n",
    "        tokens = list(filter(lambda t: t.lower() not in stopwords, tokens))\n",
    "        filtered_tokens = [w for w in tokens if re.search('[a-zA-Z]', w)]\n",
    "        filtered_tokens = [w.lower() for w in filtered_tokens if len(w)>=3]\n",
    "        \n",
    "        return filtered_tokens\n",
    "            \n",
    "    except TypeError as e: print(text,e)"
   ]
  },
  {
   "cell_type": "markdown",
   "metadata": {},
   "source": [
    "Sentiment Analysis of Description"
   ]
  },
  {
   "cell_type": "raw",
   "metadata": {},
   "source": [
    "import json"
   ]
  },
  {
   "cell_type": "raw",
   "metadata": {},
   "source": [
    "def sentiment_analysis(string):\n",
    "    data = !curl -d \"text=$string\" http://text-processing.com/api/sentiment/\n",
    "    dat = json.loads(data[-1])\n",
    "    return dat['labels']\n",
    "\n",
    "train_df['sentiment'] = train_df['description'].apply(sentiment_analysis)\n",
    "train_df['sentiment'].head()"
   ]
  },
  {
   "cell_type": "markdown",
   "metadata": {},
   "source": [
    "TD-idf"
   ]
  },
  {
   "cell_type": "code",
   "execution_count": 58,
   "metadata": {},
   "outputs": [
    {
     "data": {
      "text/plain": [
       "100"
      ]
     },
     "execution_count": 58,
     "metadata": {},
     "output_type": "execute_result"
    }
   ],
   "source": [
    "# Convert text to bag of words\n",
    "from sklearn.feature_extraction import text\n",
    "bow_transform = text.CountVectorizer(stop_words=stopwords, \n",
    "                                     max_df=0.8, \n",
    "                                     min_df=10, \n",
    "                                     max_features=100,\n",
    "                                     tokenizer=tokenize\n",
    "                                    )\n",
    "train_bow = bow_transform.fit_transform(train_df['description'])\n",
    "test_bow = bow_transform.transform(test_df['description'])\n",
    "len(bow_transform.vocabulary_)"
   ]
  },
  {
   "cell_type": "code",
   "execution_count": 59,
   "metadata": {},
   "outputs": [],
   "source": [
    "#y_train = train_df['price_trans']\n",
    "# y_test = test_df['price_trans']"
   ]
  },
  {
   "cell_type": "code",
   "execution_count": 60,
   "metadata": {},
   "outputs": [],
   "source": [
    "tfidf_trfm = text.TfidfTransformer(norm=None)\n",
    "train_X_tfidf = tfidf_trfm.fit_transform(train_bow)\n",
    "test_X_tfidf = tfidf_trfm.transform(test_bow)"
   ]
  },
  {
   "cell_type": "code",
   "execution_count": 61,
   "metadata": {},
   "outputs": [
    {
     "data": {
      "text/plain": [
       "['acidity',\n",
       " 'age',\n",
       " 'also',\n",
       " 'apple',\n",
       " 'aromas',\n",
       " 'balance',\n",
       " 'balanced',\n",
       " 'berry',\n",
       " 'bit',\n",
       " 'black']"
      ]
     },
     "execution_count": 61,
     "metadata": {},
     "output_type": "execute_result"
    }
   ],
   "source": [
    "new_cols = bow_transform.get_feature_names()\n",
    "new_cols[0:10]"
   ]
  },
  {
   "cell_type": "code",
   "execution_count": 62,
   "metadata": {},
   "outputs": [],
   "source": [
    "train_df_desc = pd.DataFrame(train_X_tfidf.toarray(), columns=new_cols)\n",
    "test_df_desc = pd.DataFrame(test_X_tfidf.toarray(), columns=new_cols)\n",
    "\n",
    "# Combine dataframe\n",
    "train_df_concat = train_df_encoded.join(train_df_desc)\n",
    "test_df_concat =test_df_encoded.join(test_df_desc)"
   ]
  },
  {
   "cell_type": "code",
   "execution_count": 63,
   "metadata": {},
   "outputs": [
    {
     "data": {
      "text/plain": [
       "((175000, 192), (83210, 192))"
      ]
     },
     "execution_count": 63,
     "metadata": {},
     "output_type": "execute_result"
    }
   ],
   "source": [
    "train_df_concat.shape, test_df_concat.shape"
   ]
  },
  {
   "cell_type": "code",
   "execution_count": 67,
   "metadata": {},
   "outputs": [],
   "source": [
    "train_df_concat.drop(columns=[\"description\"], inplace=True)\n",
    "test_df_concat.drop(columns=[\"description\"], inplace=True)"
   ]
  },
  {
   "cell_type": "code",
   "execution_count": 70,
   "metadata": {},
   "outputs": [],
   "source": [
    "# Save data fro model\n",
    "# Saving to pickle file  \n",
    "train_df_concat.to_pickle(\"data/train_df.pkl\")\n",
    "test_df_concat.to_pickle(\"data/test_df.pkl\")\n",
    "target_df.to_pickle(\"data/target_df.pkl\")"
   ]
  },
  {
   "cell_type": "code",
   "execution_count": 59,
   "metadata": {},
   "outputs": [],
   "source": [
    "# To unpiclke\n",
    "# train_df = pd.read_pickle(\"data/train_df.pkl\")\n",
    "# test_df = pd.read_pickle(\"data/test_df.pkl\")\n",
    "# target_df = pd.read_pickle(\"data/target_df.pkl\")"
   ]
  },
  {
   "cell_type": "markdown",
   "metadata": {},
   "source": [
    "### Thank You  \n",
    "### Merci"
   ]
  },
  {
   "cell_type": "code",
   "execution_count": null,
   "metadata": {},
   "outputs": [],
   "source": []
  }
 ],
 "metadata": {
  "kernelspec": {
   "display_name": "Python 3",
   "language": "python",
   "name": "python3"
  },
  "language_info": {
   "codemirror_mode": {
    "name": "ipython",
    "version": 3
   },
   "file_extension": ".py",
   "mimetype": "text/x-python",
   "name": "python",
   "nbconvert_exporter": "python",
   "pygments_lexer": "ipython3",
   "version": "3.7.3"
  }
 },
 "nbformat": 4,
 "nbformat_minor": 4
}
